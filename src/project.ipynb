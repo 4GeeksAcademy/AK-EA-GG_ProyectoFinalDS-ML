{
    "cells": [
        {
            "cell_type": "markdown",
            "metadata": {},
            "source": [
                "- #### Planteamiento del problema:\n",
                "¿Cúales son las características o aspectos que influyen en el precio de alquiler de los inmuebles?"
            ]
        },
        {
            "cell_type": "markdown",
            "metadata": {},
            "source": [
                "Se importan los datos y se ven caracteristicas iniciales"
            ]
        },
        {
            "cell_type": "code",
            "execution_count": 35,
            "metadata": {},
            "outputs": [
                {
                    "name": "stdout",
                    "output_type": "stream",
                    "text": [
                        "(48895, 16)\n",
                        "\n",
                        "<class 'pandas.core.frame.DataFrame'>\n",
                        "RangeIndex: 48895 entries, 0 to 48894\n",
                        "Data columns (total 16 columns):\n",
                        " #   Column                          Non-Null Count  Dtype  \n",
                        "---  ------                          --------------  -----  \n",
                        " 0   id                              48895 non-null  int64  \n",
                        " 1   name                            48879 non-null  object \n",
                        " 2   host_id                         48895 non-null  int64  \n",
                        " 3   host_name                       48874 non-null  object \n",
                        " 4   neighbourhood_group             48895 non-null  object \n",
                        " 5   neighbourhood                   48895 non-null  object \n",
                        " 6   latitude                        48895 non-null  float64\n",
                        " 7   longitude                       48895 non-null  float64\n",
                        " 8   room_type                       48895 non-null  object \n",
                        " 9   price                           48895 non-null  int64  \n",
                        " 10  minimum_nights                  48895 non-null  int64  \n",
                        " 11  number_of_reviews               48895 non-null  int64  \n",
                        " 12  last_review                     38843 non-null  object \n",
                        " 13  reviews_per_month               38843 non-null  float64\n",
                        " 14  calculated_host_listings_count  48895 non-null  int64  \n",
                        " 15  availability_365                48895 non-null  int64  \n",
                        "dtypes: float64(3), int64(7), object(6)\n",
                        "memory usage: 6.0+ MB\n",
                        "None\n",
                        "\n"
                    ]
                },
                {
                    "data": {
                        "text/html": [
                            "<div>\n",
                            "<style scoped>\n",
                            "    .dataframe tbody tr th:only-of-type {\n",
                            "        vertical-align: middle;\n",
                            "    }\n",
                            "\n",
                            "    .dataframe tbody tr th {\n",
                            "        vertical-align: top;\n",
                            "    }\n",
                            "\n",
                            "    .dataframe thead th {\n",
                            "        text-align: right;\n",
                            "    }\n",
                            "</style>\n",
                            "<table border=\"1\" class=\"dataframe\">\n",
                            "  <thead>\n",
                            "    <tr style=\"text-align: right;\">\n",
                            "      <th></th>\n",
                            "      <th>id</th>\n",
                            "      <th>name</th>\n",
                            "      <th>host_id</th>\n",
                            "      <th>host_name</th>\n",
                            "      <th>neighbourhood_group</th>\n",
                            "      <th>neighbourhood</th>\n",
                            "      <th>latitude</th>\n",
                            "      <th>longitude</th>\n",
                            "      <th>room_type</th>\n",
                            "      <th>price</th>\n",
                            "      <th>minimum_nights</th>\n",
                            "      <th>number_of_reviews</th>\n",
                            "      <th>last_review</th>\n",
                            "      <th>reviews_per_month</th>\n",
                            "      <th>calculated_host_listings_count</th>\n",
                            "      <th>availability_365</th>\n",
                            "    </tr>\n",
                            "  </thead>\n",
                            "  <tbody>\n",
                            "    <tr>\n",
                            "      <th>0</th>\n",
                            "      <td>2539</td>\n",
                            "      <td>Clean &amp; quiet apt home by the park</td>\n",
                            "      <td>2787</td>\n",
                            "      <td>John</td>\n",
                            "      <td>Brooklyn</td>\n",
                            "      <td>Kensington</td>\n",
                            "      <td>40.64749</td>\n",
                            "      <td>-73.97237</td>\n",
                            "      <td>Private room</td>\n",
                            "      <td>149</td>\n",
                            "      <td>1</td>\n",
                            "      <td>9</td>\n",
                            "      <td>2018-10-19</td>\n",
                            "      <td>0.21</td>\n",
                            "      <td>6</td>\n",
                            "      <td>365</td>\n",
                            "    </tr>\n",
                            "    <tr>\n",
                            "      <th>1</th>\n",
                            "      <td>2595</td>\n",
                            "      <td>Skylit Midtown Castle</td>\n",
                            "      <td>2845</td>\n",
                            "      <td>Jennifer</td>\n",
                            "      <td>Manhattan</td>\n",
                            "      <td>Midtown</td>\n",
                            "      <td>40.75362</td>\n",
                            "      <td>-73.98377</td>\n",
                            "      <td>Entire home/apt</td>\n",
                            "      <td>225</td>\n",
                            "      <td>1</td>\n",
                            "      <td>45</td>\n",
                            "      <td>2019-05-21</td>\n",
                            "      <td>0.38</td>\n",
                            "      <td>2</td>\n",
                            "      <td>355</td>\n",
                            "    </tr>\n",
                            "  </tbody>\n",
                            "</table>\n",
                            "</div>"
                        ],
                        "text/plain": [
                            "     id                                name  host_id host_name  \\\n",
                            "0  2539  Clean & quiet apt home by the park     2787      John   \n",
                            "1  2595               Skylit Midtown Castle     2845  Jennifer   \n",
                            "\n",
                            "  neighbourhood_group neighbourhood  latitude  longitude        room_type  \\\n",
                            "0            Brooklyn    Kensington  40.64749  -73.97237     Private room   \n",
                            "1           Manhattan       Midtown  40.75362  -73.98377  Entire home/apt   \n",
                            "\n",
                            "   price  minimum_nights  number_of_reviews last_review  reviews_per_month  \\\n",
                            "0    149               1                  9  2018-10-19               0.21   \n",
                            "1    225               1                 45  2019-05-21               0.38   \n",
                            "\n",
                            "   calculated_host_listings_count  availability_365  \n",
                            "0                               6               365  \n",
                            "1                               2               355  "
                        ]
                    },
                    "execution_count": 35,
                    "metadata": {},
                    "output_type": "execute_result"
                }
            ],
            "source": [
                "import pandas as pd\n",
                "\n",
                "datos = pd.read_csv(\"https://raw.githubusercontent.com/josedrosales/EDA/main/data/raw/AB_NYC_2019.csv\")\n",
                "\n",
                "print(datos.shape)\n",
                "print()\n",
                "print(datos.info())\n",
                "print()\n",
                "datos.head(2)"
            ]
        },
        {
            "cell_type": "markdown",
            "metadata": {},
            "source": [
                "Inicialmente podemos notar que:\n",
                "\n",
                "- Existen 48895 inmuebles considerados y 12 variables o clases para cada una de ellos, \n",
                "\n",
                "  entre estos el precio (clase a predecir), el resto son 11 clases predictoras.\n",
                "\n",
                "- La presencia de 16 valores nulos para la clase \"name\" es irrelevante, pues no tiene relación \n",
                "\n",
                "  con el precio del inmueble. Caso similar para los 21 valores nulos de la clase \"host_name\".\n",
                "\n",
                "- Para los casos de las clases last_review y reviews_per_month hay 10052 datos nulos.\n",
                "\n",
                "- El resto de variables cuentan siempre con datos.\n",
                "\n",
                "- El conjunto de datos contiene 7 variables categóricas (id, name, host_id, host_name, neighbourhood_group, neighbourhood, room_type).\n",
                "\n",
                "- El conjunto de datos contiene 9 variables numéricas (latitude, longitude, price, minimum_nights, number_of_reviews, last_review, reviews_per_month, calculated_host_listings_count, availability_365)."
            ]
        },
        {
            "cell_type": "markdown",
            "metadata": {},
            "source": [
                "\n",
                "- #### Se verifica si existen datos duplicados"
            ]
        },
        {
            "cell_type": "code",
            "execution_count": 36,
            "metadata": {},
            "outputs": [
                {
                    "name": "stdout",
                    "output_type": "stream",
                    "text": [
                        "No existen datos duplicados.\n"
                    ]
                }
            ],
            "source": [
                "duplicados = datos.duplicated().sum()\n",
                "\n",
                "if duplicados:\n",
                "\n",
                "    print(f'Existen {duplicados} datos duplicados.')\n",
                "\n",
                "else:\n",
                "\n",
                "    print(f'No existen datos duplicados.')\n",
                "rango_latitud = datos.latitude.max() - datos.latitude.min()\n",
                "rango_longitud = datos.longitude.max() - datos.longitude.min()"
            ]
        },
        {
            "cell_type": "code",
            "execution_count": 37,
            "metadata": {},
            "outputs": [
                {
                    "name": "stdout",
                    "output_type": "stream",
                    "text": [
                        "Rango de la latitud es: 0.4133\n",
                        "Rango de la longitud es: 0.5314\n"
                    ]
                }
            ],
            "source": [
                "print(f'Rango de la latitud es: {round(rango_latitud,4)}')\n",
                "print(f'Rango de la longitud es: {round(rango_longitud,4)}')"
            ]
        },
        {
            "cell_type": "markdown",
            "metadata": {},
            "source": [
                "- #### Eliminar informacion irrelevante\n",
                "Clases:\n",
                "\n",
                "- \"id, name, host_id, host_name\": son irrelevantes para la determinacion del precio de alquiler.\n",
                "- Al estar dentro de un mismo estado los rangos de \"latitud\" y \"longitud\" son reducidos, lo cual limita su uso para análisis. Además resultan clases redundantes, ya que alternativamente se cuenta con las clases de \"neighbourhood_group\" y \"neighbourhood\".\n",
                "- Las clases \"last_review\" y \"reviews_per_month\" son redundantes entre sí, nos quedaremos con \"reviews_per_month\"."
            ]
        },
        {
            "cell_type": "code",
            "execution_count": 38,
            "metadata": {},
            "outputs": [
                {
                    "data": {
                        "text/html": [
                            "<div>\n",
                            "<style scoped>\n",
                            "    .dataframe tbody tr th:only-of-type {\n",
                            "        vertical-align: middle;\n",
                            "    }\n",
                            "\n",
                            "    .dataframe tbody tr th {\n",
                            "        vertical-align: top;\n",
                            "    }\n",
                            "\n",
                            "    .dataframe thead th {\n",
                            "        text-align: right;\n",
                            "    }\n",
                            "</style>\n",
                            "<table border=\"1\" class=\"dataframe\">\n",
                            "  <thead>\n",
                            "    <tr style=\"text-align: right;\">\n",
                            "      <th></th>\n",
                            "      <th>neighbourhood_group</th>\n",
                            "      <th>neighbourhood</th>\n",
                            "      <th>room_type</th>\n",
                            "      <th>price</th>\n",
                            "      <th>minimum_nights</th>\n",
                            "      <th>number_of_reviews</th>\n",
                            "      <th>reviews_per_month</th>\n",
                            "      <th>calculated_host_listings_count</th>\n",
                            "      <th>availability_365</th>\n",
                            "    </tr>\n",
                            "  </thead>\n",
                            "  <tbody>\n",
                            "    <tr>\n",
                            "      <th>0</th>\n",
                            "      <td>Brooklyn</td>\n",
                            "      <td>Kensington</td>\n",
                            "      <td>Private room</td>\n",
                            "      <td>149</td>\n",
                            "      <td>1</td>\n",
                            "      <td>9</td>\n",
                            "      <td>0.21</td>\n",
                            "      <td>6</td>\n",
                            "      <td>365</td>\n",
                            "    </tr>\n",
                            "    <tr>\n",
                            "      <th>1</th>\n",
                            "      <td>Manhattan</td>\n",
                            "      <td>Midtown</td>\n",
                            "      <td>Entire home/apt</td>\n",
                            "      <td>225</td>\n",
                            "      <td>1</td>\n",
                            "      <td>45</td>\n",
                            "      <td>0.38</td>\n",
                            "      <td>2</td>\n",
                            "      <td>355</td>\n",
                            "    </tr>\n",
                            "  </tbody>\n",
                            "</table>\n",
                            "</div>"
                        ],
                        "text/plain": [
                            "  neighbourhood_group neighbourhood        room_type  price  minimum_nights  \\\n",
                            "0            Brooklyn    Kensington     Private room    149               1   \n",
                            "1           Manhattan       Midtown  Entire home/apt    225               1   \n",
                            "\n",
                            "   number_of_reviews  reviews_per_month  calculated_host_listings_count  \\\n",
                            "0                  9               0.21                               6   \n",
                            "1                 45               0.38                               2   \n",
                            "\n",
                            "   availability_365  \n",
                            "0               365  \n",
                            "1               355  "
                        ]
                    },
                    "execution_count": 38,
                    "metadata": {},
                    "output_type": "execute_result"
                }
            ],
            "source": [
                "datos.drop(['id','name','host_id','host_name','latitude','longitude','last_review'], axis=1, inplace=True)\n",
                "datos.head(2)"
            ]
        },
        {
            "cell_type": "markdown",
            "metadata": {},
            "source": [
                "- #### Análisis de variables univariante"
            ]
        },
        {
            "cell_type": "markdown",
            "metadata": {},
            "source": [
                "Para variables categoricas: neighbourhood_group, neighbourhood y room_type."
            ]
        },
        {
            "cell_type": "code",
            "execution_count": 39,
            "metadata": {},
            "outputs": [
                {
                    "data": {
                        "image/png": "[encoded data removed]",
                        "text/plain": [
                            "<Figure size 1000x400 with 1 Axes>"
                        ]
                    },
                    "metadata": {},
                    "output_type": "display_data"
                }
            ],
            "source": [
                "import matplotlib.pyplot as plt \n",
                "import seaborn as sns\n",
                "\n",
                "plt.figure(figsize = (10, 4))\n",
                "sns.histplot(data=datos, x=\"neighbourhood_group\")\n",
                "plt.show()"
            ]
        },
        {
            "cell_type": "markdown",
            "metadata": {},
            "source": [
                "Se observa que Brooklyn y Manhattan se encuentran alrededor del mismo orden en cantidad de inmuebles para alquiler (aprox. 20K). Ambos cuadruplican la cantidad de inmuebles en Queens.\n",
                "\n",
                "El Bronx duplica la cantidad de inmuebles en Staten Island. Aunque ambos son menos del 10% que los inmuebles en Brooklyn o Manhattan."
            ]
        },
        {
            "cell_type": "code",
            "execution_count": 40,
            "metadata": {},
            "outputs": [
                {
                    "name": "stdout",
                    "output_type": "stream",
                    "text": [
                        "221\n",
                        "0    Williamsburg\n",
                        "Name: neighbourhood, dtype: object\n"
                    ]
                },
                {
                    "data": {
                        "image/png": "[encoded data removed]",
                        "text/plain": [
                            "<Figure size 1000x400 with 1 Axes>"
                        ]
                    },
                    "metadata": {},
                    "output_type": "display_data"
                }
            ],
            "source": [
                "print(datos['neighbourhood'].nunique())\n",
                "print(datos.neighbourhood.mode())\n",
                "plt.figure(figsize=(10, 4))\n",
                "sns.histplot(data=datos, x=\"neighbourhood\").set_xticks([])\n",
                "plt.show()\n"
            ]
        },
        {
            "cell_type": "markdown",
            "metadata": {},
            "source": [
                "El vecindario con más ofertas es Williamsburg. Más de la mitad de los vencindarios, tienen menos de 500 ofertas disponibles."
            ]
        },
        {
            "cell_type": "code",
            "execution_count": 54,
            "metadata": {},
            "outputs": [],
            "source": [
                "cuenta_valores = datos.neighbourhood.value_counts()\n",
                "\n"
            ]
        }
    ],
    "metadata": {
        "kernelspec": {
            "display_name": "Python 3.8.13 64-bit ('3.8.13')",
            "language": "python",
            "name": "python3"
        },
        "language_info": {
            "codemirror_mode": {
                "name": "ipython",
                "version": 3
            },
            "file_extension": ".py",
            "mimetype": "text/x-python",
            "name": "python",
            "nbconvert_exporter": "python",
            "pygments_lexer": "ipython3",
            "version": "3.11.4"
        },
        "orig_nbformat": 4,
        "vscode": {
            "interpreter": {
                "hash": "110cc1dee26208153f2972f08a2ad52b6a56238dc66d48e87fb757ef2996db56"
            }
        }
    },
    "nbformat": 4,
    "nbformat_minor": 2
}
