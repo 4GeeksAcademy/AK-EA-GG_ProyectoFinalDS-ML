{
 "cells": [
  {
   "cell_type": "code",
   "execution_count": 6,
   "id": "d4373779",
   "metadata": {},
   "outputs": [],
   "source": [
    "import pandas as pd"
   ]
  },
  {
   "cell_type": "code",
   "execution_count": 7,
   "id": "b3e961bb",
   "metadata": {},
   "outputs": [],
   "source": [
    "df = pd.read_csv('/workspaces/AK-EA-GG_ProyectoFinalDS-ML/data/predicciones_con_riesgo.csv')"
   ]
  },
  {
   "cell_type": "code",
   "execution_count": 8,
   "id": "d6c0ea4b",
   "metadata": {},
   "outputs": [
    {
     "name": "stdout",
     "output_type": "stream",
     "text": [
      "<class 'pandas.core.frame.DataFrame'>\n",
      "RangeIndex: 14000 entries, 0 to 13999\n",
      "Data columns (total 39 columns):\n",
      " #   Column                               Non-Null Count  Dtype  \n",
      "---  ------                               --------------  -----  \n",
      " 0   loan_amnt                            14000 non-null  float64\n",
      " 1   term                                 14000 non-null  int64  \n",
      " 2   int_rate                             14000 non-null  float64\n",
      " 3   installment                          14000 non-null  float64\n",
      " 4   sub_grade                            14000 non-null  int64  \n",
      " 5   emp_length                           13145 non-null  float64\n",
      " 6   annual_inc                           14000 non-null  float64\n",
      " 7   dti                                  14000 non-null  float64\n",
      " 8   pub_rec                              14000 non-null  float64\n",
      " 9   revol_bal                            14000 non-null  float64\n",
      " 10  revol_util                           13991 non-null  float64\n",
      " 11  initial_list_status                  14000 non-null  int64  \n",
      " 12  mort_acc                             14000 non-null  float64\n",
      " 13  pub_rec_bankruptcies                 14000 non-null  float64\n",
      " 14  zip_code                             14000 non-null  int64  \n",
      " 15  earliest_cr_line_scaled              14000 non-null  float64\n",
      " 16  issue_d_scaled                       14000 non-null  float64\n",
      " 17  densidad_crediticia                  14000 non-null  float64\n",
      " 18  home_ownership_ANY                   14000 non-null  float64\n",
      " 19  home_ownership_MORTGAGE              14000 non-null  float64\n",
      " 20  home_ownership_OWN                   14000 non-null  float64\n",
      " 21  home_ownership_RENT                  14000 non-null  float64\n",
      " 22  verification_status_Not Verified     14000 non-null  float64\n",
      " 23  verification_status_Source Verified  14000 non-null  float64\n",
      " 24  verification_status_Verified         14000 non-null  float64\n",
      " 25  purpose_car                          14000 non-null  float64\n",
      " 26  purpose_credit_card                  14000 non-null  float64\n",
      " 27  purpose_debt_consolidation           14000 non-null  float64\n",
      " 28  purpose_home_improvement             14000 non-null  float64\n",
      " 29  purpose_house                        14000 non-null  float64\n",
      " 30  purpose_major_purchase               14000 non-null  float64\n",
      " 31  purpose_medical                      14000 non-null  float64\n",
      " 32  purpose_moving                       14000 non-null  float64\n",
      " 33  purpose_other                        14000 non-null  float64\n",
      " 34  purpose_renewable_energy             14000 non-null  float64\n",
      " 35  purpose_small_business               14000 non-null  float64\n",
      " 36  purpose_vacation                     14000 non-null  float64\n",
      " 37  prob_default                         14000 non-null  float64\n",
      " 38  predicted_class                      14000 non-null  int64  \n",
      "dtypes: float64(34), int64(5)\n",
      "memory usage: 4.2 MB\n"
     ]
    }
   ],
   "source": [
    "df.info()"
   ]
  },
  {
   "cell_type": "code",
   "execution_count": 9,
   "id": "d3730e97",
   "metadata": {},
   "outputs": [
    {
     "data": {
      "text/plain": [
       "predicted_class\n",
       "0    9584\n",
       "1    4416\n",
       "Name: count, dtype: int64"
      ]
     },
     "execution_count": 9,
     "metadata": {},
     "output_type": "execute_result"
    }
   ],
   "source": [
    "df[\"predicted_class\"].value_counts()"
   ]
  }
 ],
 "metadata": {
  "kernelspec": {
   "display_name": "env1",
   "language": "python",
   "name": "python3"
  },
  "language_info": {
   "codemirror_mode": {
    "name": "ipython",
    "version": 3
   },
   "file_extension": ".py",
   "mimetype": "text/x-python",
   "name": "python",
   "nbconvert_exporter": "python",
   "pygments_lexer": "ipython3",
   "version": "3.11.4"
  }
 },
 "nbformat": 4,
 "nbformat_minor": 5
}
