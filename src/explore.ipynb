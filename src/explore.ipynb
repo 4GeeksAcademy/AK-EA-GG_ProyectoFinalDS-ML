{
    "cells": [
        {
            "cell_type": "code",
            "execution_count": 345,
            "metadata": {
                "metadata": {}
            },
            "outputs": [
                {
                    "data": {
                        "text/html": [
                            "<div>\n",
                            "<style scoped>\n",
                            "    .dataframe tbody tr th:only-of-type {\n",
                            "        vertical-align: middle;\n",
                            "    }\n",
                            "\n",
                            "    .dataframe tbody tr th {\n",
                            "        vertical-align: top;\n",
                            "    }\n",
                            "\n",
                            "    .dataframe thead th {\n",
                            "        text-align: right;\n",
                            "    }\n",
                            "</style>\n",
                            "<table border=\"1\" class=\"dataframe\">\n",
                            "  <thead>\n",
                            "    <tr style=\"text-align: right;\">\n",
                            "      <th></th>\n",
                            "      <th>age</th>\n",
                            "      <th>job</th>\n",
                            "      <th>marital</th>\n",
                            "      <th>education</th>\n",
                            "      <th>default</th>\n",
                            "      <th>housing</th>\n",
                            "      <th>loan</th>\n",
                            "      <th>contact</th>\n",
                            "      <th>month</th>\n",
                            "      <th>day_of_week</th>\n",
                            "      <th>...</th>\n",
                            "      <th>campaign</th>\n",
                            "      <th>pdays</th>\n",
                            "      <th>previous</th>\n",
                            "      <th>poutcome</th>\n",
                            "      <th>emp.var.rate</th>\n",
                            "      <th>cons.price.idx</th>\n",
                            "      <th>cons.conf.idx</th>\n",
                            "      <th>euribor3m</th>\n",
                            "      <th>nr.employed</th>\n",
                            "      <th>y</th>\n",
                            "    </tr>\n",
                            "  </thead>\n",
                            "  <tbody>\n",
                            "    <tr>\n",
                            "      <th>0</th>\n",
                            "      <td>56</td>\n",
                            "      <td>housemaid</td>\n",
                            "      <td>married</td>\n",
                            "      <td>basic.4y</td>\n",
                            "      <td>no</td>\n",
                            "      <td>no</td>\n",
                            "      <td>no</td>\n",
                            "      <td>telephone</td>\n",
                            "      <td>may</td>\n",
                            "      <td>mon</td>\n",
                            "      <td>...</td>\n",
                            "      <td>1</td>\n",
                            "      <td>999</td>\n",
                            "      <td>0</td>\n",
                            "      <td>nonexistent</td>\n",
                            "      <td>1.1</td>\n",
                            "      <td>93.994</td>\n",
                            "      <td>-36.4</td>\n",
                            "      <td>4.857</td>\n",
                            "      <td>5191.0</td>\n",
                            "      <td>no</td>\n",
                            "    </tr>\n",
                            "    <tr>\n",
                            "      <th>1</th>\n",
                            "      <td>57</td>\n",
                            "      <td>services</td>\n",
                            "      <td>married</td>\n",
                            "      <td>high.school</td>\n",
                            "      <td>unknown</td>\n",
                            "      <td>no</td>\n",
                            "      <td>no</td>\n",
                            "      <td>telephone</td>\n",
                            "      <td>may</td>\n",
                            "      <td>mon</td>\n",
                            "      <td>...</td>\n",
                            "      <td>1</td>\n",
                            "      <td>999</td>\n",
                            "      <td>0</td>\n",
                            "      <td>nonexistent</td>\n",
                            "      <td>1.1</td>\n",
                            "      <td>93.994</td>\n",
                            "      <td>-36.4</td>\n",
                            "      <td>4.857</td>\n",
                            "      <td>5191.0</td>\n",
                            "      <td>no</td>\n",
                            "    </tr>\n",
                            "    <tr>\n",
                            "      <th>2</th>\n",
                            "      <td>37</td>\n",
                            "      <td>services</td>\n",
                            "      <td>married</td>\n",
                            "      <td>high.school</td>\n",
                            "      <td>no</td>\n",
                            "      <td>yes</td>\n",
                            "      <td>no</td>\n",
                            "      <td>telephone</td>\n",
                            "      <td>may</td>\n",
                            "      <td>mon</td>\n",
                            "      <td>...</td>\n",
                            "      <td>1</td>\n",
                            "      <td>999</td>\n",
                            "      <td>0</td>\n",
                            "      <td>nonexistent</td>\n",
                            "      <td>1.1</td>\n",
                            "      <td>93.994</td>\n",
                            "      <td>-36.4</td>\n",
                            "      <td>4.857</td>\n",
                            "      <td>5191.0</td>\n",
                            "      <td>no</td>\n",
                            "    </tr>\n",
                            "    <tr>\n",
                            "      <th>3</th>\n",
                            "      <td>40</td>\n",
                            "      <td>admin.</td>\n",
                            "      <td>married</td>\n",
                            "      <td>basic.6y</td>\n",
                            "      <td>no</td>\n",
                            "      <td>no</td>\n",
                            "      <td>no</td>\n",
                            "      <td>telephone</td>\n",
                            "      <td>may</td>\n",
                            "      <td>mon</td>\n",
                            "      <td>...</td>\n",
                            "      <td>1</td>\n",
                            "      <td>999</td>\n",
                            "      <td>0</td>\n",
                            "      <td>nonexistent</td>\n",
                            "      <td>1.1</td>\n",
                            "      <td>93.994</td>\n",
                            "      <td>-36.4</td>\n",
                            "      <td>4.857</td>\n",
                            "      <td>5191.0</td>\n",
                            "      <td>no</td>\n",
                            "    </tr>\n",
                            "    <tr>\n",
                            "      <th>4</th>\n",
                            "      <td>56</td>\n",
                            "      <td>services</td>\n",
                            "      <td>married</td>\n",
                            "      <td>high.school</td>\n",
                            "      <td>no</td>\n",
                            "      <td>no</td>\n",
                            "      <td>yes</td>\n",
                            "      <td>telephone</td>\n",
                            "      <td>may</td>\n",
                            "      <td>mon</td>\n",
                            "      <td>...</td>\n",
                            "      <td>1</td>\n",
                            "      <td>999</td>\n",
                            "      <td>0</td>\n",
                            "      <td>nonexistent</td>\n",
                            "      <td>1.1</td>\n",
                            "      <td>93.994</td>\n",
                            "      <td>-36.4</td>\n",
                            "      <td>4.857</td>\n",
                            "      <td>5191.0</td>\n",
                            "      <td>no</td>\n",
                            "    </tr>\n",
                            "    <tr>\n",
                            "      <th>...</th>\n",
                            "      <td>...</td>\n",
                            "      <td>...</td>\n",
                            "      <td>...</td>\n",
                            "      <td>...</td>\n",
                            "      <td>...</td>\n",
                            "      <td>...</td>\n",
                            "      <td>...</td>\n",
                            "      <td>...</td>\n",
                            "      <td>...</td>\n",
                            "      <td>...</td>\n",
                            "      <td>...</td>\n",
                            "      <td>...</td>\n",
                            "      <td>...</td>\n",
                            "      <td>...</td>\n",
                            "      <td>...</td>\n",
                            "      <td>...</td>\n",
                            "      <td>...</td>\n",
                            "      <td>...</td>\n",
                            "      <td>...</td>\n",
                            "      <td>...</td>\n",
                            "      <td>...</td>\n",
                            "    </tr>\n",
                            "    <tr>\n",
                            "      <th>41183</th>\n",
                            "      <td>73</td>\n",
                            "      <td>retired</td>\n",
                            "      <td>married</td>\n",
                            "      <td>professional.course</td>\n",
                            "      <td>no</td>\n",
                            "      <td>yes</td>\n",
                            "      <td>no</td>\n",
                            "      <td>cellular</td>\n",
                            "      <td>nov</td>\n",
                            "      <td>fri</td>\n",
                            "      <td>...</td>\n",
                            "      <td>1</td>\n",
                            "      <td>999</td>\n",
                            "      <td>0</td>\n",
                            "      <td>nonexistent</td>\n",
                            "      <td>-1.1</td>\n",
                            "      <td>94.767</td>\n",
                            "      <td>-50.8</td>\n",
                            "      <td>1.028</td>\n",
                            "      <td>4963.6</td>\n",
                            "      <td>yes</td>\n",
                            "    </tr>\n",
                            "    <tr>\n",
                            "      <th>41184</th>\n",
                            "      <td>46</td>\n",
                            "      <td>blue-collar</td>\n",
                            "      <td>married</td>\n",
                            "      <td>professional.course</td>\n",
                            "      <td>no</td>\n",
                            "      <td>no</td>\n",
                            "      <td>no</td>\n",
                            "      <td>cellular</td>\n",
                            "      <td>nov</td>\n",
                            "      <td>fri</td>\n",
                            "      <td>...</td>\n",
                            "      <td>1</td>\n",
                            "      <td>999</td>\n",
                            "      <td>0</td>\n",
                            "      <td>nonexistent</td>\n",
                            "      <td>-1.1</td>\n",
                            "      <td>94.767</td>\n",
                            "      <td>-50.8</td>\n",
                            "      <td>1.028</td>\n",
                            "      <td>4963.6</td>\n",
                            "      <td>no</td>\n",
                            "    </tr>\n",
                            "    <tr>\n",
                            "      <th>41185</th>\n",
                            "      <td>56</td>\n",
                            "      <td>retired</td>\n",
                            "      <td>married</td>\n",
                            "      <td>university.degree</td>\n",
                            "      <td>no</td>\n",
                            "      <td>yes</td>\n",
                            "      <td>no</td>\n",
                            "      <td>cellular</td>\n",
                            "      <td>nov</td>\n",
                            "      <td>fri</td>\n",
                            "      <td>...</td>\n",
                            "      <td>2</td>\n",
                            "      <td>999</td>\n",
                            "      <td>0</td>\n",
                            "      <td>nonexistent</td>\n",
                            "      <td>-1.1</td>\n",
                            "      <td>94.767</td>\n",
                            "      <td>-50.8</td>\n",
                            "      <td>1.028</td>\n",
                            "      <td>4963.6</td>\n",
                            "      <td>no</td>\n",
                            "    </tr>\n",
                            "    <tr>\n",
                            "      <th>41186</th>\n",
                            "      <td>44</td>\n",
                            "      <td>technician</td>\n",
                            "      <td>married</td>\n",
                            "      <td>professional.course</td>\n",
                            "      <td>no</td>\n",
                            "      <td>no</td>\n",
                            "      <td>no</td>\n",
                            "      <td>cellular</td>\n",
                            "      <td>nov</td>\n",
                            "      <td>fri</td>\n",
                            "      <td>...</td>\n",
                            "      <td>1</td>\n",
                            "      <td>999</td>\n",
                            "      <td>0</td>\n",
                            "      <td>nonexistent</td>\n",
                            "      <td>-1.1</td>\n",
                            "      <td>94.767</td>\n",
                            "      <td>-50.8</td>\n",
                            "      <td>1.028</td>\n",
                            "      <td>4963.6</td>\n",
                            "      <td>yes</td>\n",
                            "    </tr>\n",
                            "    <tr>\n",
                            "      <th>41187</th>\n",
                            "      <td>74</td>\n",
                            "      <td>retired</td>\n",
                            "      <td>married</td>\n",
                            "      <td>professional.course</td>\n",
                            "      <td>no</td>\n",
                            "      <td>yes</td>\n",
                            "      <td>no</td>\n",
                            "      <td>cellular</td>\n",
                            "      <td>nov</td>\n",
                            "      <td>fri</td>\n",
                            "      <td>...</td>\n",
                            "      <td>3</td>\n",
                            "      <td>999</td>\n",
                            "      <td>1</td>\n",
                            "      <td>failure</td>\n",
                            "      <td>-1.1</td>\n",
                            "      <td>94.767</td>\n",
                            "      <td>-50.8</td>\n",
                            "      <td>1.028</td>\n",
                            "      <td>4963.6</td>\n",
                            "      <td>no</td>\n",
                            "    </tr>\n",
                            "  </tbody>\n",
                            "</table>\n",
                            "<p>41188 rows × 21 columns</p>\n",
                            "</div>"
                        ],
                        "text/plain": [
                            "       age          job  marital            education  default housing loan  \\\n",
                            "0       56    housemaid  married             basic.4y       no      no   no   \n",
                            "1       57     services  married          high.school  unknown      no   no   \n",
                            "2       37     services  married          high.school       no     yes   no   \n",
                            "3       40       admin.  married             basic.6y       no      no   no   \n",
                            "4       56     services  married          high.school       no      no  yes   \n",
                            "...    ...          ...      ...                  ...      ...     ...  ...   \n",
                            "41183   73      retired  married  professional.course       no     yes   no   \n",
                            "41184   46  blue-collar  married  professional.course       no      no   no   \n",
                            "41185   56      retired  married    university.degree       no     yes   no   \n",
                            "41186   44   technician  married  professional.course       no      no   no   \n",
                            "41187   74      retired  married  professional.course       no     yes   no   \n",
                            "\n",
                            "         contact month day_of_week  ...  campaign  pdays  previous  \\\n",
                            "0      telephone   may         mon  ...         1    999         0   \n",
                            "1      telephone   may         mon  ...         1    999         0   \n",
                            "2      telephone   may         mon  ...         1    999         0   \n",
                            "3      telephone   may         mon  ...         1    999         0   \n",
                            "4      telephone   may         mon  ...         1    999         0   \n",
                            "...          ...   ...         ...  ...       ...    ...       ...   \n",
                            "41183   cellular   nov         fri  ...         1    999         0   \n",
                            "41184   cellular   nov         fri  ...         1    999         0   \n",
                            "41185   cellular   nov         fri  ...         2    999         0   \n",
                            "41186   cellular   nov         fri  ...         1    999         0   \n",
                            "41187   cellular   nov         fri  ...         3    999         1   \n",
                            "\n",
                            "          poutcome emp.var.rate  cons.price.idx  cons.conf.idx  euribor3m  \\\n",
                            "0      nonexistent          1.1          93.994          -36.4      4.857   \n",
                            "1      nonexistent          1.1          93.994          -36.4      4.857   \n",
                            "2      nonexistent          1.1          93.994          -36.4      4.857   \n",
                            "3      nonexistent          1.1          93.994          -36.4      4.857   \n",
                            "4      nonexistent          1.1          93.994          -36.4      4.857   \n",
                            "...            ...          ...             ...            ...        ...   \n",
                            "41183  nonexistent         -1.1          94.767          -50.8      1.028   \n",
                            "41184  nonexistent         -1.1          94.767          -50.8      1.028   \n",
                            "41185  nonexistent         -1.1          94.767          -50.8      1.028   \n",
                            "41186  nonexistent         -1.1          94.767          -50.8      1.028   \n",
                            "41187      failure         -1.1          94.767          -50.8      1.028   \n",
                            "\n",
                            "       nr.employed    y  \n",
                            "0           5191.0   no  \n",
                            "1           5191.0   no  \n",
                            "2           5191.0   no  \n",
                            "3           5191.0   no  \n",
                            "4           5191.0   no  \n",
                            "...            ...  ...  \n",
                            "41183       4963.6  yes  \n",
                            "41184       4963.6   no  \n",
                            "41185       4963.6   no  \n",
                            "41186       4963.6  yes  \n",
                            "41187       4963.6   no  \n",
                            "\n",
                            "[41188 rows x 21 columns]"
                        ]
                    },
                    "execution_count": 345,
                    "metadata": {},
                    "output_type": "execute_result"
                }
            ],
            "source": [
                "import pandas as pd\n",
                "\n",
                "df = pd.read_csv(r'https://raw.githubusercontent.com/4GeeksAcademy/logistic-regression-project-tutorial/main/bank-marketing-campaign-data.csv', delimiter=';')\n",
                "df"
            ]
        },
        {
            "cell_type": "code",
            "execution_count": 346,
            "metadata": {},
            "outputs": [
                {
                    "data": {
                        "text/plain": [
                            "y\n",
                            "no     36548\n",
                            "yes     4640\n",
                            "Name: count, dtype: int64"
                        ]
                    },
                    "execution_count": 346,
                    "metadata": {},
                    "output_type": "execute_result"
                }
            ],
            "source": [
                "df[['y']].groupby('y').value_counts() #son muy pocas las personas en este dataframe que son target especifico de ofrecimiento de credito"
            ]
        },
        {
            "cell_type": "code",
            "execution_count": 347,
            "metadata": {
                "metadata": {}
            },
            "outputs": [
                {
                    "data": {
                        "text/plain": [
                            "(41188, 21)"
                        ]
                    },
                    "execution_count": 347,
                    "metadata": {},
                    "output_type": "execute_result"
                }
            ],
            "source": [
                "df.shape"
            ]
        },
        {
            "cell_type": "code",
            "execution_count": 348,
            "metadata": {},
            "outputs": [],
            "source": [
                "df.rename(columns={'cons.price.idx': 'cons_price_idx'}, inplace=True)"
            ]
        },
        {
            "cell_type": "code",
            "execution_count": 349,
            "metadata": {},
            "outputs": [],
            "source": [
                "df.rename(columns={'emp.var.rate': 'emp_var_rate'}, inplace=True)"
            ]
        },
        {
            "cell_type": "code",
            "execution_count": 350,
            "metadata": {},
            "outputs": [],
            "source": [
                "df.rename(columns={'cons.conf.idx': 'cons_conf_idx'}, inplace=True)"
            ]
        },
        {
            "cell_type": "code",
            "execution_count": 351,
            "metadata": {},
            "outputs": [],
            "source": [
                "df.rename(columns={'default': 'current_credit'}, inplace=True)"
            ]
        },
        {
            "cell_type": "code",
            "execution_count": 352,
            "metadata": {},
            "outputs": [],
            "source": [
                "df.rename(columns={'nr.employed': 'nr_employed'}, inplace=True)"
            ]
        },
        {
            "cell_type": "code",
            "execution_count": 353,
            "metadata": {},
            "outputs": [],
            "source": [
                "df['education'] = df['education'].str.replace('.', '_')"
            ]
        },
        {
            "cell_type": "code",
            "execution_count": 354,
            "metadata": {},
            "outputs": [],
            "source": [
                "df['job'] = df['job'].str.replace('-', '_')"
            ]
        },
        {
            "cell_type": "code",
            "execution_count": 355,
            "metadata": {},
            "outputs": [],
            "source": [
                "df['job'] = df['job'].str.replace('.', '_')"
            ]
        },
        {
            "cell_type": "code",
            "execution_count": 356,
            "metadata": {
                "metadata": {}
            },
            "outputs": [
                {
                    "name": "stdout",
                    "output_type": "stream",
                    "text": [
                        "<class 'pandas.core.frame.DataFrame'>\n",
                        "RangeIndex: 41188 entries, 0 to 41187\n",
                        "Data columns (total 21 columns):\n",
                        " #   Column          Non-Null Count  Dtype  \n",
                        "---  ------          --------------  -----  \n",
                        " 0   age             41188 non-null  int64  \n",
                        " 1   job             41188 non-null  object \n",
                        " 2   marital         41188 non-null  object \n",
                        " 3   education       41188 non-null  object \n",
                        " 4   current_credit  41188 non-null  object \n",
                        " 5   housing         41188 non-null  object \n",
                        " 6   loan            41188 non-null  object \n",
                        " 7   contact         41188 non-null  object \n",
                        " 8   month           41188 non-null  object \n",
                        " 9   day_of_week     41188 non-null  object \n",
                        " 10  duration        41188 non-null  int64  \n",
                        " 11  campaign        41188 non-null  int64  \n",
                        " 12  pdays           41188 non-null  int64  \n",
                        " 13  previous        41188 non-null  int64  \n",
                        " 14  poutcome        41188 non-null  object \n",
                        " 15  emp_var_rate    41188 non-null  float64\n",
                        " 16  cons_price_idx  41188 non-null  float64\n",
                        " 17  cons_conf_idx   41188 non-null  float64\n",
                        " 18  euribor3m       41188 non-null  float64\n",
                        " 19  nr_employed     41188 non-null  float64\n",
                        " 20  y               41188 non-null  object \n",
                        "dtypes: float64(5), int64(5), object(11)\n",
                        "memory usage: 6.6+ MB\n"
                    ]
                }
            ],
            "source": [
                "df.info()#hay varios valores que pueden ser cambiados a binario"
            ]
        },
        {
            "cell_type": "code",
            "execution_count": 357,
            "metadata": {},
            "outputs": [
                {
                    "data": {
                        "text/plain": [
                            "age                 78\n",
                            "job                 12\n",
                            "marital              4\n",
                            "education            8\n",
                            "current_credit       3\n",
                            "housing              3\n",
                            "loan                 3\n",
                            "contact              2\n",
                            "month               10\n",
                            "day_of_week          5\n",
                            "duration          1544\n",
                            "campaign            42\n",
                            "pdays               27\n",
                            "previous             8\n",
                            "poutcome             3\n",
                            "emp_var_rate        10\n",
                            "cons_price_idx      26\n",
                            "cons_conf_idx       26\n",
                            "euribor3m          316\n",
                            "nr_employed         11\n",
                            "y                    2\n",
                            "dtype: int64"
                        ]
                    },
                    "execution_count": 357,
                    "metadata": {},
                    "output_type": "execute_result"
                }
            ],
            "source": [
                "df.nunique()"
            ]
        },
        {
            "cell_type": "code",
            "execution_count": 358,
            "metadata": {
                "metadata": {}
            },
            "outputs": [
                {
                    "data": {
                        "text/html": [
                            "<div>\n",
                            "<style scoped>\n",
                            "    .dataframe tbody tr th:only-of-type {\n",
                            "        vertical-align: middle;\n",
                            "    }\n",
                            "\n",
                            "    .dataframe tbody tr th {\n",
                            "        vertical-align: top;\n",
                            "    }\n",
                            "\n",
                            "    .dataframe thead th {\n",
                            "        text-align: right;\n",
                            "    }\n",
                            "</style>\n",
                            "<table border=\"1\" class=\"dataframe\">\n",
                            "  <thead>\n",
                            "    <tr style=\"text-align: right;\">\n",
                            "      <th></th>\n",
                            "      <th>count</th>\n",
                            "      <th>mean</th>\n",
                            "      <th>std</th>\n",
                            "      <th>min</th>\n",
                            "      <th>25%</th>\n",
                            "      <th>50%</th>\n",
                            "      <th>75%</th>\n",
                            "      <th>max</th>\n",
                            "    </tr>\n",
                            "  </thead>\n",
                            "  <tbody>\n",
                            "    <tr>\n",
                            "      <th>age</th>\n",
                            "      <td>41188.0</td>\n",
                            "      <td>40.024060</td>\n",
                            "      <td>10.421250</td>\n",
                            "      <td>17.000</td>\n",
                            "      <td>32.000</td>\n",
                            "      <td>38.000</td>\n",
                            "      <td>47.000</td>\n",
                            "      <td>98.000</td>\n",
                            "    </tr>\n",
                            "    <tr>\n",
                            "      <th>duration</th>\n",
                            "      <td>41188.0</td>\n",
                            "      <td>258.285010</td>\n",
                            "      <td>259.279249</td>\n",
                            "      <td>0.000</td>\n",
                            "      <td>102.000</td>\n",
                            "      <td>180.000</td>\n",
                            "      <td>319.000</td>\n",
                            "      <td>4918.000</td>\n",
                            "    </tr>\n",
                            "    <tr>\n",
                            "      <th>campaign</th>\n",
                            "      <td>41188.0</td>\n",
                            "      <td>2.567593</td>\n",
                            "      <td>2.770014</td>\n",
                            "      <td>1.000</td>\n",
                            "      <td>1.000</td>\n",
                            "      <td>2.000</td>\n",
                            "      <td>3.000</td>\n",
                            "      <td>56.000</td>\n",
                            "    </tr>\n",
                            "    <tr>\n",
                            "      <th>pdays</th>\n",
                            "      <td>41188.0</td>\n",
                            "      <td>962.475454</td>\n",
                            "      <td>186.910907</td>\n",
                            "      <td>0.000</td>\n",
                            "      <td>999.000</td>\n",
                            "      <td>999.000</td>\n",
                            "      <td>999.000</td>\n",
                            "      <td>999.000</td>\n",
                            "    </tr>\n",
                            "    <tr>\n",
                            "      <th>previous</th>\n",
                            "      <td>41188.0</td>\n",
                            "      <td>0.172963</td>\n",
                            "      <td>0.494901</td>\n",
                            "      <td>0.000</td>\n",
                            "      <td>0.000</td>\n",
                            "      <td>0.000</td>\n",
                            "      <td>0.000</td>\n",
                            "      <td>7.000</td>\n",
                            "    </tr>\n",
                            "    <tr>\n",
                            "      <th>emp_var_rate</th>\n",
                            "      <td>41188.0</td>\n",
                            "      <td>0.081886</td>\n",
                            "      <td>1.570960</td>\n",
                            "      <td>-3.400</td>\n",
                            "      <td>-1.800</td>\n",
                            "      <td>1.100</td>\n",
                            "      <td>1.400</td>\n",
                            "      <td>1.400</td>\n",
                            "    </tr>\n",
                            "    <tr>\n",
                            "      <th>cons_price_idx</th>\n",
                            "      <td>41188.0</td>\n",
                            "      <td>93.575664</td>\n",
                            "      <td>0.578840</td>\n",
                            "      <td>92.201</td>\n",
                            "      <td>93.075</td>\n",
                            "      <td>93.749</td>\n",
                            "      <td>93.994</td>\n",
                            "      <td>94.767</td>\n",
                            "    </tr>\n",
                            "    <tr>\n",
                            "      <th>cons_conf_idx</th>\n",
                            "      <td>41188.0</td>\n",
                            "      <td>-40.502600</td>\n",
                            "      <td>4.628198</td>\n",
                            "      <td>-50.800</td>\n",
                            "      <td>-42.700</td>\n",
                            "      <td>-41.800</td>\n",
                            "      <td>-36.400</td>\n",
                            "      <td>-26.900</td>\n",
                            "    </tr>\n",
                            "    <tr>\n",
                            "      <th>euribor3m</th>\n",
                            "      <td>41188.0</td>\n",
                            "      <td>3.621291</td>\n",
                            "      <td>1.734447</td>\n",
                            "      <td>0.634</td>\n",
                            "      <td>1.344</td>\n",
                            "      <td>4.857</td>\n",
                            "      <td>4.961</td>\n",
                            "      <td>5.045</td>\n",
                            "    </tr>\n",
                            "    <tr>\n",
                            "      <th>nr_employed</th>\n",
                            "      <td>41188.0</td>\n",
                            "      <td>5167.035911</td>\n",
                            "      <td>72.251528</td>\n",
                            "      <td>4963.600</td>\n",
                            "      <td>5099.100</td>\n",
                            "      <td>5191.000</td>\n",
                            "      <td>5228.100</td>\n",
                            "      <td>5228.100</td>\n",
                            "    </tr>\n",
                            "  </tbody>\n",
                            "</table>\n",
                            "</div>"
                        ],
                        "text/plain": [
                            "                  count         mean         std       min       25%  \\\n",
                            "age             41188.0    40.024060   10.421250    17.000    32.000   \n",
                            "duration        41188.0   258.285010  259.279249     0.000   102.000   \n",
                            "campaign        41188.0     2.567593    2.770014     1.000     1.000   \n",
                            "pdays           41188.0   962.475454  186.910907     0.000   999.000   \n",
                            "previous        41188.0     0.172963    0.494901     0.000     0.000   \n",
                            "emp_var_rate    41188.0     0.081886    1.570960    -3.400    -1.800   \n",
                            "cons_price_idx  41188.0    93.575664    0.578840    92.201    93.075   \n",
                            "cons_conf_idx   41188.0   -40.502600    4.628198   -50.800   -42.700   \n",
                            "euribor3m       41188.0     3.621291    1.734447     0.634     1.344   \n",
                            "nr_employed     41188.0  5167.035911   72.251528  4963.600  5099.100   \n",
                            "\n",
                            "                     50%       75%       max  \n",
                            "age               38.000    47.000    98.000  \n",
                            "duration         180.000   319.000  4918.000  \n",
                            "campaign           2.000     3.000    56.000  \n",
                            "pdays            999.000   999.000   999.000  \n",
                            "previous           0.000     0.000     7.000  \n",
                            "emp_var_rate       1.100     1.400     1.400  \n",
                            "cons_price_idx    93.749    93.994    94.767  \n",
                            "cons_conf_idx    -41.800   -36.400   -26.900  \n",
                            "euribor3m          4.857     4.961     5.045  \n",
                            "nr_employed     5191.000  5228.100  5228.100  "
                        ]
                    },
                    "execution_count": 358,
                    "metadata": {},
                    "output_type": "execute_result"
                }
            ],
            "source": [
                "df.describe().T "
            ]
        },
        {
            "cell_type": "code",
            "execution_count": 359,
            "metadata": {},
            "outputs": [
                {
                    "data": {
                        "text/plain": [
                            "age               0.0\n",
                            "job               0.0\n",
                            "marital           0.0\n",
                            "education         0.0\n",
                            "current_credit    0.0\n",
                            "housing           0.0\n",
                            "loan              0.0\n",
                            "contact           0.0\n",
                            "month             0.0\n",
                            "day_of_week       0.0\n",
                            "duration          0.0\n",
                            "campaign          0.0\n",
                            "pdays             0.0\n",
                            "previous          0.0\n",
                            "poutcome          0.0\n",
                            "emp_var_rate      0.0\n",
                            "cons_price_idx    0.0\n",
                            "cons_conf_idx     0.0\n",
                            "euribor3m         0.0\n",
                            "nr_employed       0.0\n",
                            "y                 0.0\n",
                            "dtype: float64"
                        ]
                    },
                    "execution_count": 359,
                    "metadata": {},
                    "output_type": "execute_result"
                }
            ],
            "source": [
                "df.isnull().mean()*100 #mi dataset no tiene datos Nan"
            ]
        },
        {
            "cell_type": "code",
            "execution_count": 360,
            "metadata": {
                "metadata": {}
            },
            "outputs": [
                {
                    "data": {
                        "text/plain": [
                            "age               0\n",
                            "job               0\n",
                            "marital           0\n",
                            "education         0\n",
                            "current_credit    0\n",
                            "housing           0\n",
                            "loan              0\n",
                            "contact           0\n",
                            "month             0\n",
                            "day_of_week       0\n",
                            "duration          0\n",
                            "campaign          0\n",
                            "pdays             0\n",
                            "previous          0\n",
                            "poutcome          0\n",
                            "emp_var_rate      0\n",
                            "cons_price_idx    0\n",
                            "cons_conf_idx     0\n",
                            "euribor3m         0\n",
                            "nr_employed       0\n",
                            "y                 0\n",
                            "dtype: int64"
                        ]
                    },
                    "execution_count": 360,
                    "metadata": {},
                    "output_type": "execute_result"
                }
            ],
            "source": [
                "df.isna().sum()"
            ]
        },
        {
            "cell_type": "code",
            "execution_count": 361,
            "metadata": {},
            "outputs": [
                {
                    "data": {
                        "text/html": [
                            "<div>\n",
                            "<style scoped>\n",
                            "    .dataframe tbody tr th:only-of-type {\n",
                            "        vertical-align: middle;\n",
                            "    }\n",
                            "\n",
                            "    .dataframe tbody tr th {\n",
                            "        vertical-align: top;\n",
                            "    }\n",
                            "\n",
                            "    .dataframe thead th {\n",
                            "        text-align: right;\n",
                            "    }\n",
                            "</style>\n",
                            "<table border=\"1\" class=\"dataframe\">\n",
                            "  <thead>\n",
                            "    <tr style=\"text-align: right;\">\n",
                            "      <th></th>\n",
                            "      <th>age</th>\n",
                            "      <th>job</th>\n",
                            "      <th>marital</th>\n",
                            "      <th>education</th>\n",
                            "      <th>current_credit</th>\n",
                            "      <th>housing</th>\n",
                            "      <th>loan</th>\n",
                            "      <th>emp_var_rate</th>\n",
                            "      <th>cons_price_idx</th>\n",
                            "      <th>cons_conf_idx</th>\n",
                            "      <th>euribor3m</th>\n",
                            "      <th>nr_employed</th>\n",
                            "      <th>y</th>\n",
                            "    </tr>\n",
                            "  </thead>\n",
                            "  <tbody>\n",
                            "    <tr>\n",
                            "      <th>0</th>\n",
                            "      <td>56</td>\n",
                            "      <td>housemaid</td>\n",
                            "      <td>married</td>\n",
                            "      <td>basic_4y</td>\n",
                            "      <td>no</td>\n",
                            "      <td>no</td>\n",
                            "      <td>no</td>\n",
                            "      <td>1.1</td>\n",
                            "      <td>93.994</td>\n",
                            "      <td>-36.4</td>\n",
                            "      <td>4.857</td>\n",
                            "      <td>5191.0</td>\n",
                            "      <td>no</td>\n",
                            "    </tr>\n",
                            "    <tr>\n",
                            "      <th>1</th>\n",
                            "      <td>57</td>\n",
                            "      <td>services</td>\n",
                            "      <td>married</td>\n",
                            "      <td>high_school</td>\n",
                            "      <td>unknown</td>\n",
                            "      <td>no</td>\n",
                            "      <td>no</td>\n",
                            "      <td>1.1</td>\n",
                            "      <td>93.994</td>\n",
                            "      <td>-36.4</td>\n",
                            "      <td>4.857</td>\n",
                            "      <td>5191.0</td>\n",
                            "      <td>no</td>\n",
                            "    </tr>\n",
                            "    <tr>\n",
                            "      <th>2</th>\n",
                            "      <td>37</td>\n",
                            "      <td>services</td>\n",
                            "      <td>married</td>\n",
                            "      <td>high_school</td>\n",
                            "      <td>no</td>\n",
                            "      <td>yes</td>\n",
                            "      <td>no</td>\n",
                            "      <td>1.1</td>\n",
                            "      <td>93.994</td>\n",
                            "      <td>-36.4</td>\n",
                            "      <td>4.857</td>\n",
                            "      <td>5191.0</td>\n",
                            "      <td>no</td>\n",
                            "    </tr>\n",
                            "    <tr>\n",
                            "      <th>3</th>\n",
                            "      <td>40</td>\n",
                            "      <td>admin_</td>\n",
                            "      <td>married</td>\n",
                            "      <td>basic_6y</td>\n",
                            "      <td>no</td>\n",
                            "      <td>no</td>\n",
                            "      <td>no</td>\n",
                            "      <td>1.1</td>\n",
                            "      <td>93.994</td>\n",
                            "      <td>-36.4</td>\n",
                            "      <td>4.857</td>\n",
                            "      <td>5191.0</td>\n",
                            "      <td>no</td>\n",
                            "    </tr>\n",
                            "    <tr>\n",
                            "      <th>4</th>\n",
                            "      <td>56</td>\n",
                            "      <td>services</td>\n",
                            "      <td>married</td>\n",
                            "      <td>high_school</td>\n",
                            "      <td>no</td>\n",
                            "      <td>no</td>\n",
                            "      <td>yes</td>\n",
                            "      <td>1.1</td>\n",
                            "      <td>93.994</td>\n",
                            "      <td>-36.4</td>\n",
                            "      <td>4.857</td>\n",
                            "      <td>5191.0</td>\n",
                            "      <td>no</td>\n",
                            "    </tr>\n",
                            "    <tr>\n",
                            "      <th>...</th>\n",
                            "      <td>...</td>\n",
                            "      <td>...</td>\n",
                            "      <td>...</td>\n",
                            "      <td>...</td>\n",
                            "      <td>...</td>\n",
                            "      <td>...</td>\n",
                            "      <td>...</td>\n",
                            "      <td>...</td>\n",
                            "      <td>...</td>\n",
                            "      <td>...</td>\n",
                            "      <td>...</td>\n",
                            "      <td>...</td>\n",
                            "      <td>...</td>\n",
                            "    </tr>\n",
                            "    <tr>\n",
                            "      <th>41183</th>\n",
                            "      <td>73</td>\n",
                            "      <td>retired</td>\n",
                            "      <td>married</td>\n",
                            "      <td>professional_course</td>\n",
                            "      <td>no</td>\n",
                            "      <td>yes</td>\n",
                            "      <td>no</td>\n",
                            "      <td>-1.1</td>\n",
                            "      <td>94.767</td>\n",
                            "      <td>-50.8</td>\n",
                            "      <td>1.028</td>\n",
                            "      <td>4963.6</td>\n",
                            "      <td>yes</td>\n",
                            "    </tr>\n",
                            "    <tr>\n",
                            "      <th>41184</th>\n",
                            "      <td>46</td>\n",
                            "      <td>blue_collar</td>\n",
                            "      <td>married</td>\n",
                            "      <td>professional_course</td>\n",
                            "      <td>no</td>\n",
                            "      <td>no</td>\n",
                            "      <td>no</td>\n",
                            "      <td>-1.1</td>\n",
                            "      <td>94.767</td>\n",
                            "      <td>-50.8</td>\n",
                            "      <td>1.028</td>\n",
                            "      <td>4963.6</td>\n",
                            "      <td>no</td>\n",
                            "    </tr>\n",
                            "    <tr>\n",
                            "      <th>41185</th>\n",
                            "      <td>56</td>\n",
                            "      <td>retired</td>\n",
                            "      <td>married</td>\n",
                            "      <td>university_degree</td>\n",
                            "      <td>no</td>\n",
                            "      <td>yes</td>\n",
                            "      <td>no</td>\n",
                            "      <td>-1.1</td>\n",
                            "      <td>94.767</td>\n",
                            "      <td>-50.8</td>\n",
                            "      <td>1.028</td>\n",
                            "      <td>4963.6</td>\n",
                            "      <td>no</td>\n",
                            "    </tr>\n",
                            "    <tr>\n",
                            "      <th>41186</th>\n",
                            "      <td>44</td>\n",
                            "      <td>technician</td>\n",
                            "      <td>married</td>\n",
                            "      <td>professional_course</td>\n",
                            "      <td>no</td>\n",
                            "      <td>no</td>\n",
                            "      <td>no</td>\n",
                            "      <td>-1.1</td>\n",
                            "      <td>94.767</td>\n",
                            "      <td>-50.8</td>\n",
                            "      <td>1.028</td>\n",
                            "      <td>4963.6</td>\n",
                            "      <td>yes</td>\n",
                            "    </tr>\n",
                            "    <tr>\n",
                            "      <th>41187</th>\n",
                            "      <td>74</td>\n",
                            "      <td>retired</td>\n",
                            "      <td>married</td>\n",
                            "      <td>professional_course</td>\n",
                            "      <td>no</td>\n",
                            "      <td>yes</td>\n",
                            "      <td>no</td>\n",
                            "      <td>-1.1</td>\n",
                            "      <td>94.767</td>\n",
                            "      <td>-50.8</td>\n",
                            "      <td>1.028</td>\n",
                            "      <td>4963.6</td>\n",
                            "      <td>no</td>\n",
                            "    </tr>\n",
                            "  </tbody>\n",
                            "</table>\n",
                            "<p>41188 rows × 13 columns</p>\n",
                            "</div>"
                        ],
                        "text/plain": [
                            "       age          job  marital            education current_credit housing  \\\n",
                            "0       56    housemaid  married             basic_4y             no      no   \n",
                            "1       57     services  married          high_school        unknown      no   \n",
                            "2       37     services  married          high_school             no     yes   \n",
                            "3       40       admin_  married             basic_6y             no      no   \n",
                            "4       56     services  married          high_school             no      no   \n",
                            "...    ...          ...      ...                  ...            ...     ...   \n",
                            "41183   73      retired  married  professional_course             no     yes   \n",
                            "41184   46  blue_collar  married  professional_course             no      no   \n",
                            "41185   56      retired  married    university_degree             no     yes   \n",
                            "41186   44   technician  married  professional_course             no      no   \n",
                            "41187   74      retired  married  professional_course             no     yes   \n",
                            "\n",
                            "      loan  emp_var_rate  cons_price_idx  cons_conf_idx  euribor3m  \\\n",
                            "0       no           1.1          93.994          -36.4      4.857   \n",
                            "1       no           1.1          93.994          -36.4      4.857   \n",
                            "2       no           1.1          93.994          -36.4      4.857   \n",
                            "3       no           1.1          93.994          -36.4      4.857   \n",
                            "4      yes           1.1          93.994          -36.4      4.857   \n",
                            "...    ...           ...             ...            ...        ...   \n",
                            "41183   no          -1.1          94.767          -50.8      1.028   \n",
                            "41184   no          -1.1          94.767          -50.8      1.028   \n",
                            "41185   no          -1.1          94.767          -50.8      1.028   \n",
                            "41186   no          -1.1          94.767          -50.8      1.028   \n",
                            "41187   no          -1.1          94.767          -50.8      1.028   \n",
                            "\n",
                            "       nr_employed    y  \n",
                            "0           5191.0   no  \n",
                            "1           5191.0   no  \n",
                            "2           5191.0   no  \n",
                            "3           5191.0   no  \n",
                            "4           5191.0   no  \n",
                            "...            ...  ...  \n",
                            "41183       4963.6  yes  \n",
                            "41184       4963.6   no  \n",
                            "41185       4963.6   no  \n",
                            "41186       4963.6  yes  \n",
                            "41187       4963.6   no  \n",
                            "\n",
                            "[41188 rows x 13 columns]"
                        ]
                    },
                    "execution_count": 361,
                    "metadata": {},
                    "output_type": "execute_result"
                }
            ],
            "source": [
                "df.drop(['month', 'duration', 'campaign', 'previous', 'poutcome', 'pdays', 'contact', 'day_of_week'], axis=1, inplace=True)\n",
                "df.reset_index(drop=True, inplace=True)\n",
                "df"
            ]
        },
        {
            "cell_type": "code",
            "execution_count": 362,
            "metadata": {
                "metadata": {}
            },
            "outputs": [
                {
                    "data": {
                        "text/plain": [
                            "age\n",
                            "17      5\n",
                            "18     28\n",
                            "19     42\n",
                            "20     65\n",
                            "21    102\n",
                            "     ... \n",
                            "91      2\n",
                            "92      4\n",
                            "94      1\n",
                            "95      1\n",
                            "98      2\n",
                            "Name: count, Length: 78, dtype: int64"
                        ]
                    },
                    "execution_count": 362,
                    "metadata": {},
                    "output_type": "execute_result"
                }
            ],
            "source": [
                "#comienzo a filtrar primero por grupos de edad. Esto me indica que la edad minima es 17 y la maxima 98, el describe me indica que la medio por grupos percentiles de solo el 25% ya es de 32, y la del percentil 75 es de 47. \n",
                "#Con base en este informacion puedo delimitar el grupo de individuos cuya edad minima y maxima esten 5 unidades por encima y debajo de las medias de los cuartiles, es decir 25 y 62\n",
                "age_population = df[['age']].groupby('age').value_counts()\n",
                "age_population"
            ]
        },
        {
            "cell_type": "code",
            "execution_count": 363,
            "metadata": {},
            "outputs": [],
            "source": [
                "filtro_edad = df.query('age >= 18 and age <=98')\n",
                " #ahora tengo un rango de edad mas adecuado para contratar un producto financiero."
            ]
        },
        {
            "cell_type": "markdown",
            "metadata": {},
            "source": [
                "AQUI COMIENZO A VISUALIZAR LOS TIPOS DE CLASES QUE HAY EN CADA VARIABLE, A ELIMINAR VALORES UNKNOWN, Y A REEMPLAZARLOS POR VALORES BINARIOS."
            ]
        },
        {
            "cell_type": "code",
            "execution_count": 364,
            "metadata": {
                "metadata": {}
            },
            "outputs": [
                {
                    "data": {
                        "text/plain": [
                            "job\n",
                            "admin_           10422\n",
                            "blue_collar       9254\n",
                            "entrepreneur      1456\n",
                            "housemaid         1060\n",
                            "management        2924\n",
                            "retired           1720\n",
                            "self_employed     1421\n",
                            "services          3969\n",
                            "student            870\n",
                            "technician        6743\n",
                            "unemployed        1014\n",
                            "unknown            330\n",
                            "Name: count, dtype: int64"
                        ]
                    },
                    "execution_count": 364,
                    "metadata": {},
                    "output_type": "execute_result"
                }
            ],
            "source": [
                "filtro_edad[['job']].groupby('job').value_counts()"
            ]
        },
        {
            "cell_type": "code",
            "execution_count": 365,
            "metadata": {},
            "outputs": [],
            "source": [
                "eliminar_trabajos = ['unknown'] \n",
                "gente_con_trabajo = filtro_edad[-filtro_edad['job'].isin(eliminar_trabajos)]\n",
                " #elimino unknown como datos Nan"
            ]
        },
        {
            "cell_type": "code",
            "execution_count": 366,
            "metadata": {
                "metadata": {}
            },
            "outputs": [
                {
                    "data": {
                        "text/plain": [
                            "job\n",
                            "admin_           10422\n",
                            "blue_collar       9254\n",
                            "entrepreneur      1456\n",
                            "housemaid         1060\n",
                            "management        2924\n",
                            "retired           1720\n",
                            "self_employed     1421\n",
                            "services          3969\n",
                            "student            870\n",
                            "technician        6743\n",
                            "unemployed        1014\n",
                            "Name: count, dtype: int64"
                        ]
                    },
                    "execution_count": 366,
                    "metadata": {},
                    "output_type": "execute_result"
                }
            ],
            "source": [
                "gente_con_trabajo[['job']].groupby('job').value_counts()"
            ]
        },
        {
            "cell_type": "code",
            "execution_count": 367,
            "metadata": {
                "metadata": {}
            },
            "outputs": [
                {
                    "name": "stderr",
                    "output_type": "stream",
                    "text": [
                        "/tmp/ipykernel_3634/874756226.py:1: FutureWarning: Downcasting behavior in `replace` is deprecated and will be removed in a future version. To retain the old behavior, explicitly call `result.infer_objects(copy=False)`. To opt-in to the future behavior, set `pd.set_option('future.no_silent_downcasting', True)`\n",
                        "  gente_con_trabajo['job'] = gente_con_trabajo['job'].replace({'admin_': 0, 'blue_collar': 1, 'entrepreneur': 2, 'housemaid': 3, 'management': 4, 'retired': 5, 'self_employed': 6, 'services': 7, 'student': 8, 'technician': 9, 'unemployed': 10,})\n",
                        "/tmp/ipykernel_3634/874756226.py:1: SettingWithCopyWarning: \n",
                        "A value is trying to be set on a copy of a slice from a DataFrame.\n",
                        "Try using .loc[row_indexer,col_indexer] = value instead\n",
                        "\n",
                        "See the caveats in the documentation: https://pandas.pydata.org/pandas-docs/stable/user_guide/indexing.html#returning-a-view-versus-a-copy\n",
                        "  gente_con_trabajo['job'] = gente_con_trabajo['job'].replace({'admin_': 0, 'blue_collar': 1, 'entrepreneur': 2, 'housemaid': 3, 'management': 4, 'retired': 5, 'self_employed': 6, 'services': 7, 'student': 8, 'technician': 9, 'unemployed': 10,})\n"
                    ]
                }
            ],
            "source": [
                "gente_con_trabajo['job'] = gente_con_trabajo['job'].replace({'admin_': 0, 'blue_collar': 1, 'entrepreneur': 2, 'housemaid': 3, 'management': 4, 'retired': 5, 'self_employed': 6, 'services': 7, 'student': 8, 'technician': 9, 'unemployed': 10,})"
            ]
        },
        {
            "cell_type": "code",
            "execution_count": 368,
            "metadata": {},
            "outputs": [
                {
                    "data": {
                        "text/plain": [
                            "marital\n",
                            "divorced     4599\n",
                            "married     24694\n",
                            "single      11489\n",
                            "unknown        71\n",
                            "Name: count, dtype: int64"
                        ]
                    },
                    "execution_count": 368,
                    "metadata": {},
                    "output_type": "execute_result"
                }
            ],
            "source": [
                "gente_con_trabajo[['marital']].groupby('marital').value_counts()#vuelvo a revisar para ver si los trabajos se eliminaron correctamente"
            ]
        },
        {
            "cell_type": "code",
            "execution_count": 369,
            "metadata": {},
            "outputs": [],
            "source": [
                "eliminar_unknown = ['unknown']\n",
                "marital = gente_con_trabajo[-gente_con_trabajo['marital'].isin(eliminar_unknown)]"
            ]
        },
        {
            "cell_type": "code",
            "execution_count": 370,
            "metadata": {
                "metadata": {}
            },
            "outputs": [
                {
                    "name": "stderr",
                    "output_type": "stream",
                    "text": [
                        "/tmp/ipykernel_3634/1682185979.py:1: FutureWarning: Downcasting behavior in `replace` is deprecated and will be removed in a future version. To retain the old behavior, explicitly call `result.infer_objects(copy=False)`. To opt-in to the future behavior, set `pd.set_option('future.no_silent_downcasting', True)`\n",
                        "  marital['marital'] = marital['marital'].replace({'divorced': 0, 'married': 1, 'single':2})\n",
                        "/tmp/ipykernel_3634/1682185979.py:1: SettingWithCopyWarning: \n",
                        "A value is trying to be set on a copy of a slice from a DataFrame.\n",
                        "Try using .loc[row_indexer,col_indexer] = value instead\n",
                        "\n",
                        "See the caveats in the documentation: https://pandas.pydata.org/pandas-docs/stable/user_guide/indexing.html#returning-a-view-versus-a-copy\n",
                        "  marital['marital'] = marital['marital'].replace({'divorced': 0, 'married': 1, 'single':2})\n"
                    ]
                }
            ],
            "source": [
                "marital['marital'] = marital['marital'].replace({'divorced': 0, 'married': 1, 'single':2})"
            ]
        },
        {
            "cell_type": "code",
            "execution_count": 371,
            "metadata": {
                "metadata": {}
            },
            "outputs": [
                {
                    "data": {
                        "text/plain": [
                            "current_credit\n",
                            "no         32343\n",
                            "unknown     8436\n",
                            "yes            3\n",
                            "Name: count, dtype: int64"
                        ]
                    },
                    "execution_count": 371,
                    "metadata": {},
                    "output_type": "execute_result"
                }
            ],
            "source": [
                "unknown_default_cantidad = marital[['current_credit']].groupby('current_credit').value_counts()\n",
                "unknown_default_cantidad\n",
                "#para continuar necesito convertir todos los valores de los tipos de credito a binario 0 para si 1 para no, por tanto los datos unknown me estorban. Comienzo por la variable del credito default"
            ]
        },
        {
            "cell_type": "code",
            "execution_count": 372,
            "metadata": {},
            "outputs": [],
            "source": [
                "eliminar_unknown = ['unknown']\n",
                "gente_con_default = marital[-marital['current_credit'].isin(eliminar_unknown)]"
            ]
        },
        {
            "cell_type": "code",
            "execution_count": 373,
            "metadata": {
                "metadata": {}
            },
            "outputs": [
                {
                    "name": "stderr",
                    "output_type": "stream",
                    "text": [
                        "/tmp/ipykernel_3634/2728864360.py:1: FutureWarning: Downcasting behavior in `replace` is deprecated and will be removed in a future version. To retain the old behavior, explicitly call `result.infer_objects(copy=False)`. To opt-in to the future behavior, set `pd.set_option('future.no_silent_downcasting', True)`\n",
                        "  gente_con_default['current_credit'] = gente_con_default['current_credit'].replace({'no': 0, 'yes': 1})\n",
                        "/tmp/ipykernel_3634/2728864360.py:1: SettingWithCopyWarning: \n",
                        "A value is trying to be set on a copy of a slice from a DataFrame.\n",
                        "Try using .loc[row_indexer,col_indexer] = value instead\n",
                        "\n",
                        "See the caveats in the documentation: https://pandas.pydata.org/pandas-docs/stable/user_guide/indexing.html#returning-a-view-versus-a-copy\n",
                        "  gente_con_default['current_credit'] = gente_con_default['current_credit'].replace({'no': 0, 'yes': 1})\n"
                    ]
                }
            ],
            "source": [
                "gente_con_default['current_credit'] = gente_con_default['current_credit'].replace({'no': 0, 'yes': 1})"
            ]
        },
        {
            "cell_type": "code",
            "execution_count": 374,
            "metadata": {
                "metadata": {}
            },
            "outputs": [
                {
                    "data": {
                        "text/plain": [
                            "housing\n",
                            "no         14492\n",
                            "unknown      760\n",
                            "yes        17094\n",
                            "Name: count, dtype: int64"
                        ]
                    },
                    "execution_count": 374,
                    "metadata": {},
                    "output_type": "execute_result"
                }
            ],
            "source": [
                "#Ahora reviso la variable housing\n",
                "unknown_housing_cantidad = gente_con_default[['housing']].groupby('housing').value_counts()\n",
                "unknown_housing_cantidad #sigo teniendo datos inservibles por este lado, debo eliminarlos"
            ]
        },
        {
            "cell_type": "code",
            "execution_count": 375,
            "metadata": {},
            "outputs": [],
            "source": [
                "eliminar_unknown = ['unknown']\n",
                "gente_con_housing = gente_con_default[-gente_con_default['housing'].isin(eliminar_unknown)]"
            ]
        },
        {
            "cell_type": "code",
            "execution_count": 376,
            "metadata": {
                "metadata": {}
            },
            "outputs": [
                {
                    "name": "stderr",
                    "output_type": "stream",
                    "text": [
                        "/tmp/ipykernel_3634/765273244.py:1: FutureWarning: Downcasting behavior in `replace` is deprecated and will be removed in a future version. To retain the old behavior, explicitly call `result.infer_objects(copy=False)`. To opt-in to the future behavior, set `pd.set_option('future.no_silent_downcasting', True)`\n",
                        "  gente_con_housing['housing'] = gente_con_housing['housing'].replace({'no': 0, 'yes': 1})\n",
                        "/tmp/ipykernel_3634/765273244.py:1: SettingWithCopyWarning: \n",
                        "A value is trying to be set on a copy of a slice from a DataFrame.\n",
                        "Try using .loc[row_indexer,col_indexer] = value instead\n",
                        "\n",
                        "See the caveats in the documentation: https://pandas.pydata.org/pandas-docs/stable/user_guide/indexing.html#returning-a-view-versus-a-copy\n",
                        "  gente_con_housing['housing'] = gente_con_housing['housing'].replace({'no': 0, 'yes': 1})\n"
                    ]
                }
            ],
            "source": [
                "gente_con_housing['housing'] = gente_con_housing['housing'].replace({'no': 0, 'yes': 1})"
            ]
        },
        {
            "cell_type": "code",
            "execution_count": 377,
            "metadata": {},
            "outputs": [
                {
                    "data": {
                        "text/plain": [
                            "loan\n",
                            "no     26659\n",
                            "yes     4927\n",
                            "Name: count, dtype: int64"
                        ]
                    },
                    "execution_count": 377,
                    "metadata": {},
                    "output_type": "execute_result"
                }
            ],
            "source": [
                "#ahora reviso los de loan\n",
                "unknown_housing_loan = gente_con_housing[['loan']].groupby('loan').value_counts() #aqui ya no tengo unknown.\n",
                "unknown_housing_loan"
            ]
        },
        {
            "cell_type": "code",
            "execution_count": 378,
            "metadata": {
                "metadata": {}
            },
            "outputs": [
                {
                    "name": "stderr",
                    "output_type": "stream",
                    "text": [
                        "/tmp/ipykernel_3634/2130042660.py:1: FutureWarning: Downcasting behavior in `replace` is deprecated and will be removed in a future version. To retain the old behavior, explicitly call `result.infer_objects(copy=False)`. To opt-in to the future behavior, set `pd.set_option('future.no_silent_downcasting', True)`\n",
                        "  gente_con_housing['loan'] = gente_con_housing['loan'].replace({'no': 0, 'yes': 1})\n",
                        "/tmp/ipykernel_3634/2130042660.py:1: SettingWithCopyWarning: \n",
                        "A value is trying to be set on a copy of a slice from a DataFrame.\n",
                        "Try using .loc[row_indexer,col_indexer] = value instead\n",
                        "\n",
                        "See the caveats in the documentation: https://pandas.pydata.org/pandas-docs/stable/user_guide/indexing.html#returning-a-view-versus-a-copy\n",
                        "  gente_con_housing['loan'] = gente_con_housing['loan'].replace({'no': 0, 'yes': 1})\n"
                    ]
                }
            ],
            "source": [
                "gente_con_housing['loan'] = gente_con_housing['loan'].replace({'no': 0, 'yes': 1})"
            ]
        },
        {
            "cell_type": "code",
            "execution_count": 379,
            "metadata": {
                "metadata": {}
            },
            "outputs": [
                {
                    "data": {
                        "text/plain": [
                            "education\n",
                            "basic_4y                2380\n",
                            "basic_6y                1389\n",
                            "basic_9y                4274\n",
                            "high_school             7699\n",
                            "illiterate                11\n",
                            "professional_course     4321\n",
                            "university_degree      10412\n",
                            "unknown                 1100\n",
                            "Name: count, dtype: int64"
                        ]
                    },
                    "execution_count": 379,
                    "metadata": {},
                    "output_type": "execute_result"
                }
            ],
            "source": [
                "unknown_education = gente_con_housing[['education']].groupby('education').value_counts()\n",
                "unknown_education"
            ]
        },
        {
            "cell_type": "code",
            "execution_count": 380,
            "metadata": {},
            "outputs": [],
            "source": [
                "eliminar_unknown_education = ['unknown']\n",
                "gente_con_education = gente_con_housing[-gente_con_housing['education'].isin(eliminar_unknown_education)]\n",
                "#este tipo de educacion no es adecuado para obtener un loan del banco."
            ]
        },
        {
            "cell_type": "code",
            "execution_count": 381,
            "metadata": {
                "metadata": {}
            },
            "outputs": [
                {
                    "name": "stderr",
                    "output_type": "stream",
                    "text": [
                        "/tmp/ipykernel_3634/3933186467.py:1: FutureWarning: Downcasting behavior in `replace` is deprecated and will be removed in a future version. To retain the old behavior, explicitly call `result.infer_objects(copy=False)`. To opt-in to the future behavior, set `pd.set_option('future.no_silent_downcasting', True)`\n",
                        "  gente_con_education['education'] = gente_con_education['education'].replace({'basic_4y': 0, 'basic_6y': 1, 'basic_9y': 2, 'high_school': 3, 'illiterate': 4, 'professional_course': 5, 'university_degree': 6})\n",
                        "/tmp/ipykernel_3634/3933186467.py:1: SettingWithCopyWarning: \n",
                        "A value is trying to be set on a copy of a slice from a DataFrame.\n",
                        "Try using .loc[row_indexer,col_indexer] = value instead\n",
                        "\n",
                        "See the caveats in the documentation: https://pandas.pydata.org/pandas-docs/stable/user_guide/indexing.html#returning-a-view-versus-a-copy\n",
                        "  gente_con_education['education'] = gente_con_education['education'].replace({'basic_4y': 0, 'basic_6y': 1, 'basic_9y': 2, 'high_school': 3, 'illiterate': 4, 'professional_course': 5, 'university_degree': 6})\n"
                    ]
                }
            ],
            "source": [
                "gente_con_education['education'] = gente_con_education['education'].replace({'basic_4y': 0, 'basic_6y': 1, 'basic_9y': 2, 'high_school': 3, 'illiterate': 4, 'professional_course': 5, 'university_degree': 6})"
            ]
        },
        {
            "cell_type": "code",
            "execution_count": 382,
            "metadata": {
                "metadata": {}
            },
            "outputs": [
                {
                    "data": {
                        "text/plain": [
                            "y\n",
                            "no     26627\n",
                            "yes     3859\n",
                            "Name: count, dtype: int64"
                        ]
                    },
                    "execution_count": 382,
                    "metadata": {},
                    "output_type": "execute_result"
                }
            ],
            "source": [
                "gente_con_education[['y']].groupby('y').value_counts() #no hay unknown en esta variable y todavia conservamos buena parte de los target originales del dataframe"
            ]
        },
        {
            "cell_type": "code",
            "execution_count": 383,
            "metadata": {
                "metadata": {}
            },
            "outputs": [
                {
                    "name": "stderr",
                    "output_type": "stream",
                    "text": [
                        "/tmp/ipykernel_3634/2166326624.py:1: FutureWarning: Downcasting behavior in `replace` is deprecated and will be removed in a future version. To retain the old behavior, explicitly call `result.infer_objects(copy=False)`. To opt-in to the future behavior, set `pd.set_option('future.no_silent_downcasting', True)`\n",
                        "  gente_con_education['y'] = gente_con_education['y'].replace({'no': 0, 'yes': 1})\n",
                        "/tmp/ipykernel_3634/2166326624.py:1: SettingWithCopyWarning: \n",
                        "A value is trying to be set on a copy of a slice from a DataFrame.\n",
                        "Try using .loc[row_indexer,col_indexer] = value instead\n",
                        "\n",
                        "See the caveats in the documentation: https://pandas.pydata.org/pandas-docs/stable/user_guide/indexing.html#returning-a-view-versus-a-copy\n",
                        "  gente_con_education['y'] = gente_con_education['y'].replace({'no': 0, 'yes': 1})\n"
                    ]
                },
                {
                    "data": {
                        "text/html": [
                            "<div>\n",
                            "<style scoped>\n",
                            "    .dataframe tbody tr th:only-of-type {\n",
                            "        vertical-align: middle;\n",
                            "    }\n",
                            "\n",
                            "    .dataframe tbody tr th {\n",
                            "        vertical-align: top;\n",
                            "    }\n",
                            "\n",
                            "    .dataframe thead th {\n",
                            "        text-align: right;\n",
                            "    }\n",
                            "</style>\n",
                            "<table border=\"1\" class=\"dataframe\">\n",
                            "  <thead>\n",
                            "    <tr style=\"text-align: right;\">\n",
                            "      <th></th>\n",
                            "      <th>age</th>\n",
                            "      <th>job</th>\n",
                            "      <th>marital</th>\n",
                            "      <th>education</th>\n",
                            "      <th>current_credit</th>\n",
                            "      <th>housing</th>\n",
                            "      <th>loan</th>\n",
                            "      <th>emp_var_rate</th>\n",
                            "      <th>cons_price_idx</th>\n",
                            "      <th>cons_conf_idx</th>\n",
                            "      <th>euribor3m</th>\n",
                            "      <th>nr_employed</th>\n",
                            "      <th>y</th>\n",
                            "    </tr>\n",
                            "  </thead>\n",
                            "  <tbody>\n",
                            "    <tr>\n",
                            "      <th>0</th>\n",
                            "      <td>56</td>\n",
                            "      <td>3</td>\n",
                            "      <td>1</td>\n",
                            "      <td>0</td>\n",
                            "      <td>0</td>\n",
                            "      <td>0</td>\n",
                            "      <td>0</td>\n",
                            "      <td>1.1</td>\n",
                            "      <td>93.994</td>\n",
                            "      <td>-36.4</td>\n",
                            "      <td>4.857</td>\n",
                            "      <td>5191.0</td>\n",
                            "      <td>0</td>\n",
                            "    </tr>\n",
                            "    <tr>\n",
                            "      <th>2</th>\n",
                            "      <td>37</td>\n",
                            "      <td>7</td>\n",
                            "      <td>1</td>\n",
                            "      <td>3</td>\n",
                            "      <td>0</td>\n",
                            "      <td>1</td>\n",
                            "      <td>0</td>\n",
                            "      <td>1.1</td>\n",
                            "      <td>93.994</td>\n",
                            "      <td>-36.4</td>\n",
                            "      <td>4.857</td>\n",
                            "      <td>5191.0</td>\n",
                            "      <td>0</td>\n",
                            "    </tr>\n",
                            "    <tr>\n",
                            "      <th>3</th>\n",
                            "      <td>40</td>\n",
                            "      <td>0</td>\n",
                            "      <td>1</td>\n",
                            "      <td>1</td>\n",
                            "      <td>0</td>\n",
                            "      <td>0</td>\n",
                            "      <td>0</td>\n",
                            "      <td>1.1</td>\n",
                            "      <td>93.994</td>\n",
                            "      <td>-36.4</td>\n",
                            "      <td>4.857</td>\n",
                            "      <td>5191.0</td>\n",
                            "      <td>0</td>\n",
                            "    </tr>\n",
                            "    <tr>\n",
                            "      <th>4</th>\n",
                            "      <td>56</td>\n",
                            "      <td>7</td>\n",
                            "      <td>1</td>\n",
                            "      <td>3</td>\n",
                            "      <td>0</td>\n",
                            "      <td>0</td>\n",
                            "      <td>1</td>\n",
                            "      <td>1.1</td>\n",
                            "      <td>93.994</td>\n",
                            "      <td>-36.4</td>\n",
                            "      <td>4.857</td>\n",
                            "      <td>5191.0</td>\n",
                            "      <td>0</td>\n",
                            "    </tr>\n",
                            "    <tr>\n",
                            "      <th>6</th>\n",
                            "      <td>59</td>\n",
                            "      <td>0</td>\n",
                            "      <td>1</td>\n",
                            "      <td>5</td>\n",
                            "      <td>0</td>\n",
                            "      <td>0</td>\n",
                            "      <td>0</td>\n",
                            "      <td>1.1</td>\n",
                            "      <td>93.994</td>\n",
                            "      <td>-36.4</td>\n",
                            "      <td>4.857</td>\n",
                            "      <td>5191.0</td>\n",
                            "      <td>0</td>\n",
                            "    </tr>\n",
                            "    <tr>\n",
                            "      <th>...</th>\n",
                            "      <td>...</td>\n",
                            "      <td>...</td>\n",
                            "      <td>...</td>\n",
                            "      <td>...</td>\n",
                            "      <td>...</td>\n",
                            "      <td>...</td>\n",
                            "      <td>...</td>\n",
                            "      <td>...</td>\n",
                            "      <td>...</td>\n",
                            "      <td>...</td>\n",
                            "      <td>...</td>\n",
                            "      <td>...</td>\n",
                            "      <td>...</td>\n",
                            "    </tr>\n",
                            "    <tr>\n",
                            "      <th>41183</th>\n",
                            "      <td>73</td>\n",
                            "      <td>5</td>\n",
                            "      <td>1</td>\n",
                            "      <td>5</td>\n",
                            "      <td>0</td>\n",
                            "      <td>1</td>\n",
                            "      <td>0</td>\n",
                            "      <td>-1.1</td>\n",
                            "      <td>94.767</td>\n",
                            "      <td>-50.8</td>\n",
                            "      <td>1.028</td>\n",
                            "      <td>4963.6</td>\n",
                            "      <td>1</td>\n",
                            "    </tr>\n",
                            "    <tr>\n",
                            "      <th>41184</th>\n",
                            "      <td>46</td>\n",
                            "      <td>1</td>\n",
                            "      <td>1</td>\n",
                            "      <td>5</td>\n",
                            "      <td>0</td>\n",
                            "      <td>0</td>\n",
                            "      <td>0</td>\n",
                            "      <td>-1.1</td>\n",
                            "      <td>94.767</td>\n",
                            "      <td>-50.8</td>\n",
                            "      <td>1.028</td>\n",
                            "      <td>4963.6</td>\n",
                            "      <td>0</td>\n",
                            "    </tr>\n",
                            "    <tr>\n",
                            "      <th>41185</th>\n",
                            "      <td>56</td>\n",
                            "      <td>5</td>\n",
                            "      <td>1</td>\n",
                            "      <td>6</td>\n",
                            "      <td>0</td>\n",
                            "      <td>1</td>\n",
                            "      <td>0</td>\n",
                            "      <td>-1.1</td>\n",
                            "      <td>94.767</td>\n",
                            "      <td>-50.8</td>\n",
                            "      <td>1.028</td>\n",
                            "      <td>4963.6</td>\n",
                            "      <td>0</td>\n",
                            "    </tr>\n",
                            "    <tr>\n",
                            "      <th>41186</th>\n",
                            "      <td>44</td>\n",
                            "      <td>9</td>\n",
                            "      <td>1</td>\n",
                            "      <td>5</td>\n",
                            "      <td>0</td>\n",
                            "      <td>0</td>\n",
                            "      <td>0</td>\n",
                            "      <td>-1.1</td>\n",
                            "      <td>94.767</td>\n",
                            "      <td>-50.8</td>\n",
                            "      <td>1.028</td>\n",
                            "      <td>4963.6</td>\n",
                            "      <td>1</td>\n",
                            "    </tr>\n",
                            "    <tr>\n",
                            "      <th>41187</th>\n",
                            "      <td>74</td>\n",
                            "      <td>5</td>\n",
                            "      <td>1</td>\n",
                            "      <td>5</td>\n",
                            "      <td>0</td>\n",
                            "      <td>1</td>\n",
                            "      <td>0</td>\n",
                            "      <td>-1.1</td>\n",
                            "      <td>94.767</td>\n",
                            "      <td>-50.8</td>\n",
                            "      <td>1.028</td>\n",
                            "      <td>4963.6</td>\n",
                            "      <td>0</td>\n",
                            "    </tr>\n",
                            "  </tbody>\n",
                            "</table>\n",
                            "<p>30486 rows × 13 columns</p>\n",
                            "</div>"
                        ],
                        "text/plain": [
                            "       age  job  marital  education  current_credit  housing  loan  \\\n",
                            "0       56    3        1          0               0        0     0   \n",
                            "2       37    7        1          3               0        1     0   \n",
                            "3       40    0        1          1               0        0     0   \n",
                            "4       56    7        1          3               0        0     1   \n",
                            "6       59    0        1          5               0        0     0   \n",
                            "...    ...  ...      ...        ...             ...      ...   ...   \n",
                            "41183   73    5        1          5               0        1     0   \n",
                            "41184   46    1        1          5               0        0     0   \n",
                            "41185   56    5        1          6               0        1     0   \n",
                            "41186   44    9        1          5               0        0     0   \n",
                            "41187   74    5        1          5               0        1     0   \n",
                            "\n",
                            "       emp_var_rate  cons_price_idx  cons_conf_idx  euribor3m  nr_employed  y  \n",
                            "0               1.1          93.994          -36.4      4.857       5191.0  0  \n",
                            "2               1.1          93.994          -36.4      4.857       5191.0  0  \n",
                            "3               1.1          93.994          -36.4      4.857       5191.0  0  \n",
                            "4               1.1          93.994          -36.4      4.857       5191.0  0  \n",
                            "6               1.1          93.994          -36.4      4.857       5191.0  0  \n",
                            "...             ...             ...            ...        ...          ... ..  \n",
                            "41183          -1.1          94.767          -50.8      1.028       4963.6  1  \n",
                            "41184          -1.1          94.767          -50.8      1.028       4963.6  0  \n",
                            "41185          -1.1          94.767          -50.8      1.028       4963.6  0  \n",
                            "41186          -1.1          94.767          -50.8      1.028       4963.6  1  \n",
                            "41187          -1.1          94.767          -50.8      1.028       4963.6  0  \n",
                            "\n",
                            "[30486 rows x 13 columns]"
                        ]
                    },
                    "execution_count": 383,
                    "metadata": {},
                    "output_type": "execute_result"
                }
            ],
            "source": [
                "gente_con_education['y'] = gente_con_education['y'].replace({'no': 0, 'yes': 1})\n",
                "gente_con_education"
            ]
        },
        {
            "cell_type": "code",
            "execution_count": 384,
            "metadata": {},
            "outputs": [],
            "source": [
                "import pandas as pd\n",
                "from sklearn.feature_selection import SelectKBest, f_classif\n",
                "\n",
                "# Supongamos que tienes un DataFrame 'df' con características y una columna objetivo 'target'\n",
                "# X son las características y y es la columna objetivo\n",
                "X = gente_con_education.drop('y', axis=1)  # Quitamos la columna objetivo\n",
                "y = gente_con_education['y']\n",
                "\n",
                "# Seleccionamos las mejores características usando SelectKBest con la prueba de ANOVA F-value\n",
                "k = 5  # Número de características que queremos seleccionar\n",
                "selector = SelectKBest(score_func=f_classif, k=k)\n",
                "X_best = selector.fit_transform(X, y)\n",
                "\n",
                "# Obtenemos los índices de las características seleccionadas\n",
                "selected_indices = selector.get_support(indices=True)\n",
                "\n",
                "# Obtenemos los nombres de las características seleccionadas\n",
                "selected_features = X.columns[selected_indices]\n",
                "\n",
                "# Creamos un nuevo DataFrame solo con las características seleccionadas y la columna objetivo\n",
                "df_selected = gente_con_education[selected_features.union(['y'])]"
            ]
        },
        {
            "cell_type": "markdown",
            "metadata": {},
            "source": [
                "AQUI TERMINE DE FILTRAR Y REEMPLAZAR DATOS Y COMIENZO A ESTUDIARLOS PARA ENTRENAR EL MODELO"
            ]
        },
        {
            "cell_type": "code",
            "execution_count": 385,
            "metadata": {},
            "outputs": [
                {
                    "data": {
                        "text/plain": [
                            "cons_conf_idx     0.373983\n",
                            "cons_price_idx   -0.118469\n",
                            "emp_var_rate     -0.549059\n",
                            "euribor3m        -0.525227\n",
                            "nr_employed      -0.893966\n",
                            "y                 2.246196\n",
                            "dtype: float64"
                        ]
                    },
                    "execution_count": 385,
                    "metadata": {},
                    "output_type": "execute_result"
                }
            ],
            "source": [
                "filtered_df = df_selected\n",
                "sesgo = filtered_df.apply(lambda x: x.skew())\n",
                "sesgo #hay un sesgo extremadamente negativo en default, lo cual no es normal, ya que el sesgo comun es de -2 a 2, debo revisar esa columna para establecer el porque de estos datos"
            ]
        },
        {
            "cell_type": "code",
            "execution_count": 386,
            "metadata": {},
            "outputs": [
                {
                    "data": {
                        "text/html": [
                            "<div>\n",
                            "<style scoped>\n",
                            "    .dataframe tbody tr th:only-of-type {\n",
                            "        vertical-align: middle;\n",
                            "    }\n",
                            "\n",
                            "    .dataframe tbody tr th {\n",
                            "        vertical-align: top;\n",
                            "    }\n",
                            "\n",
                            "    .dataframe thead th {\n",
                            "        text-align: right;\n",
                            "    }\n",
                            "</style>\n",
                            "<table border=\"1\" class=\"dataframe\">\n",
                            "  <thead>\n",
                            "    <tr style=\"text-align: right;\">\n",
                            "      <th></th>\n",
                            "      <th>cons_conf_idx</th>\n",
                            "      <th>cons_price_idx</th>\n",
                            "      <th>emp_var_rate</th>\n",
                            "      <th>euribor3m</th>\n",
                            "      <th>nr_employed</th>\n",
                            "      <th>y</th>\n",
                            "    </tr>\n",
                            "  </thead>\n",
                            "  <tbody>\n",
                            "    <tr>\n",
                            "      <th>0</th>\n",
                            "      <td>-36.4</td>\n",
                            "      <td>93.994</td>\n",
                            "      <td>1.1</td>\n",
                            "      <td>4.857</td>\n",
                            "      <td>5191.0</td>\n",
                            "      <td>0</td>\n",
                            "    </tr>\n",
                            "    <tr>\n",
                            "      <th>2</th>\n",
                            "      <td>-36.4</td>\n",
                            "      <td>93.994</td>\n",
                            "      <td>1.1</td>\n",
                            "      <td>4.857</td>\n",
                            "      <td>5191.0</td>\n",
                            "      <td>0</td>\n",
                            "    </tr>\n",
                            "    <tr>\n",
                            "      <th>3</th>\n",
                            "      <td>-36.4</td>\n",
                            "      <td>93.994</td>\n",
                            "      <td>1.1</td>\n",
                            "      <td>4.857</td>\n",
                            "      <td>5191.0</td>\n",
                            "      <td>0</td>\n",
                            "    </tr>\n",
                            "    <tr>\n",
                            "      <th>4</th>\n",
                            "      <td>-36.4</td>\n",
                            "      <td>93.994</td>\n",
                            "      <td>1.1</td>\n",
                            "      <td>4.857</td>\n",
                            "      <td>5191.0</td>\n",
                            "      <td>0</td>\n",
                            "    </tr>\n",
                            "    <tr>\n",
                            "      <th>6</th>\n",
                            "      <td>-36.4</td>\n",
                            "      <td>93.994</td>\n",
                            "      <td>1.1</td>\n",
                            "      <td>4.857</td>\n",
                            "      <td>5191.0</td>\n",
                            "      <td>0</td>\n",
                            "    </tr>\n",
                            "    <tr>\n",
                            "      <th>...</th>\n",
                            "      <td>...</td>\n",
                            "      <td>...</td>\n",
                            "      <td>...</td>\n",
                            "      <td>...</td>\n",
                            "      <td>...</td>\n",
                            "      <td>...</td>\n",
                            "    </tr>\n",
                            "    <tr>\n",
                            "      <th>41183</th>\n",
                            "      <td>-50.8</td>\n",
                            "      <td>94.767</td>\n",
                            "      <td>-1.1</td>\n",
                            "      <td>1.028</td>\n",
                            "      <td>4963.6</td>\n",
                            "      <td>1</td>\n",
                            "    </tr>\n",
                            "    <tr>\n",
                            "      <th>41184</th>\n",
                            "      <td>-50.8</td>\n",
                            "      <td>94.767</td>\n",
                            "      <td>-1.1</td>\n",
                            "      <td>1.028</td>\n",
                            "      <td>4963.6</td>\n",
                            "      <td>0</td>\n",
                            "    </tr>\n",
                            "    <tr>\n",
                            "      <th>41185</th>\n",
                            "      <td>-50.8</td>\n",
                            "      <td>94.767</td>\n",
                            "      <td>-1.1</td>\n",
                            "      <td>1.028</td>\n",
                            "      <td>4963.6</td>\n",
                            "      <td>0</td>\n",
                            "    </tr>\n",
                            "    <tr>\n",
                            "      <th>41186</th>\n",
                            "      <td>-50.8</td>\n",
                            "      <td>94.767</td>\n",
                            "      <td>-1.1</td>\n",
                            "      <td>1.028</td>\n",
                            "      <td>4963.6</td>\n",
                            "      <td>1</td>\n",
                            "    </tr>\n",
                            "    <tr>\n",
                            "      <th>41187</th>\n",
                            "      <td>-50.8</td>\n",
                            "      <td>94.767</td>\n",
                            "      <td>-1.1</td>\n",
                            "      <td>1.028</td>\n",
                            "      <td>4963.6</td>\n",
                            "      <td>0</td>\n",
                            "    </tr>\n",
                            "  </tbody>\n",
                            "</table>\n",
                            "<p>30486 rows × 6 columns</p>\n",
                            "</div>"
                        ],
                        "text/plain": [
                            "       cons_conf_idx  cons_price_idx  emp_var_rate  euribor3m  nr_employed  y\n",
                            "0              -36.4          93.994           1.1      4.857       5191.0  0\n",
                            "2              -36.4          93.994           1.1      4.857       5191.0  0\n",
                            "3              -36.4          93.994           1.1      4.857       5191.0  0\n",
                            "4              -36.4          93.994           1.1      4.857       5191.0  0\n",
                            "6              -36.4          93.994           1.1      4.857       5191.0  0\n",
                            "...              ...             ...           ...        ...          ... ..\n",
                            "41183          -50.8          94.767          -1.1      1.028       4963.6  1\n",
                            "41184          -50.8          94.767          -1.1      1.028       4963.6  0\n",
                            "41185          -50.8          94.767          -1.1      1.028       4963.6  0\n",
                            "41186          -50.8          94.767          -1.1      1.028       4963.6  1\n",
                            "41187          -50.8          94.767          -1.1      1.028       4963.6  0\n",
                            "\n",
                            "[30486 rows x 6 columns]"
                        ]
                    },
                    "execution_count": 386,
                    "metadata": {},
                    "output_type": "execute_result"
                }
            ],
            "source": [
                "housing_0 = filtered_df.copy()\n",
                "housing_0"
            ]
        },
        {
            "cell_type": "code",
            "execution_count": 387,
            "metadata": {},
            "outputs": [
                {
                    "name": "stdout",
                    "output_type": "stream",
                    "text": [
                        "La columna no contiene valores 'unknown'.\n"
                    ]
                }
            ],
            "source": [
                "#housing_0[['euribor3m']].groupby('euribor3m').value_counts() #de 4600 personas que eran originalmente target, aqui tengo aun casi 2142, casi una cuarta parte de eso. Estos filtros me sirven para buscar nuevos prospectos con caracteristicas similares a los target\n",
                "#En este caso, buena parte de los target tienen credito hipotecario, tienen trabajos un tanto mas estables, se entiende que estas sean las razones de ser target.\n",
                "#variable y solo tiene dos opciones,\n",
                "if 'unknown' in housing_0['y'].values:\n",
                "    print(\"La columna contiene valores 'unknown'.\")\n",
                "else:\n",
                "    print(\"La columna no contiene valores 'unknown'.\")"
            ]
        },
        {
            "cell_type": "code",
            "execution_count": 388,
            "metadata": {},
            "outputs": [],
            "source": [
                "# Calcular el monto máximo del préstamo usando los valores de euribor3m como coeficientes\n",
                "# Calcular el precio medio del euribor por cada tipo de trabajo\n",
                "#housing_0['employees_per_job'] = housing_0.groupby('job')['nr_employed'].transform('mean').round()\n",
                "#housing_0.drop(['nr_employed'], axis=1, inplace=True) #el numero de empleados por tipo de trabajo tiene una correlacion alta con otras variables\n",
                "#housing_0['conf_emp_ratio'] = housing_0['cons_conf_idx'] / df['emp_var_rate']\n",
                "#education_emp_var_mean = housing_0.groupby('education')['emp_var_rate'].mean()\n",
                "#housing_0['education_emp_var_mean'] = housing_0['education'].map(education_emp_var_mean)\n",
                "#education_confidence_mean = housing_0.groupby('education')['cons_conf_idx'].mean()\n",
                "#housing_0['education_confidence_mean'] = housing_0['education'].map(education_confidence_mean)\n",
                "#job_age_mean = housing_0.groupby('job')['age'].mean()\n",
                "#housing_0['job_age_mean'] = housing_0['job'].map(job_age_mean)\n",
                "#housing_0['credit_conf_difference'] = housing_0['current_credit'] - housing_0['cons_conf_idx']\n",
                "#housing_0['credit_conf_ratio'] = housing_0['current_credit'] / housing_0['cons_conf_idx']\n",
                "# Suponiendo que tengas un DataFrame df y deseas calcular la proporción entre cons_conf_idx y emp_var_rate\n",
                "#housing_0['conf_emp_ratio'] = housing_0['cons_conf_idx'] / housing_0['emp_var_rate']\n",
                "#credit_acceptance_prop = housing_0.groupby('current_credit')['y'].mean()\n",
                "#credit_acceptance_dict = credit_acceptance_prop.to_dict()\n",
                "#housing_0['credit_acceptance_prop'] = housing_0['current_credit'].map(credit_acceptance_dict)\n",
                "#marital_conf_mean = housing_0.groupby('marital')['cons_conf_idx'].mean()\n",
                "#marital_conf_dict = marital_conf_mean.to_dict()\n",
                "#housing_0['marital_conf_mean'] = housing_0['marital'].map(marital_conf_dict)\n",
                "#housing_0"
            ]
        },
        {
            "cell_type": "code",
            "execution_count": 389,
            "metadata": {
                "metadata": {}
            },
            "outputs": [
                {
                    "data": {
                        "text/html": [
                            "<style type=\"text/css\">\n",
                            "#T_ef69a_row0_col0, #T_ef69a_row1_col1, #T_ef69a_row2_col2, #T_ef69a_row3_col3, #T_ef69a_row4_col4, #T_ef69a_row5_col5 {\n",
                            "  background-color: #b40426;\n",
                            "  color: #f1f1f1;\n",
                            "}\n",
                            "#T_ef69a_row0_col1 {\n",
                            "  background-color: #6687ed;\n",
                            "  color: #f1f1f1;\n",
                            "}\n",
                            "#T_ef69a_row0_col2 {\n",
                            "  background-color: #b1cbfc;\n",
                            "  color: #000000;\n",
                            "}\n",
                            "#T_ef69a_row0_col3 {\n",
                            "  background-color: #c7d7f0;\n",
                            "  color: #000000;\n",
                            "}\n",
                            "#T_ef69a_row0_col4 {\n",
                            "  background-color: #a6c4fe;\n",
                            "  color: #000000;\n",
                            "}\n",
                            "#T_ef69a_row0_col5 {\n",
                            "  background-color: #a2c1ff;\n",
                            "  color: #000000;\n",
                            "}\n",
                            "#T_ef69a_row1_col0, #T_ef69a_row4_col5, #T_ef69a_row5_col1, #T_ef69a_row5_col2, #T_ef69a_row5_col3, #T_ef69a_row5_col4 {\n",
                            "  background-color: #3b4cc0;\n",
                            "  color: #f1f1f1;\n",
                            "}\n",
                            "#T_ef69a_row1_col2 {\n",
                            "  background-color: #e97a5f;\n",
                            "  color: #f1f1f1;\n",
                            "}\n",
                            "#T_ef69a_row1_col3 {\n",
                            "  background-color: #f49a7b;\n",
                            "  color: #000000;\n",
                            "}\n",
                            "#T_ef69a_row1_col4 {\n",
                            "  background-color: #f5c4ac;\n",
                            "  color: #000000;\n",
                            "}\n",
                            "#T_ef69a_row1_col5 {\n",
                            "  background-color: #7295f4;\n",
                            "  color: #f1f1f1;\n",
                            "}\n",
                            "#T_ef69a_row2_col0 {\n",
                            "  background-color: #6485ec;\n",
                            "  color: #f1f1f1;\n",
                            "}\n",
                            "#T_ef69a_row2_col1 {\n",
                            "  background-color: #ef886b;\n",
                            "  color: #f1f1f1;\n",
                            "}\n",
                            "#T_ef69a_row2_col3, #T_ef69a_row3_col2 {\n",
                            "  background-color: #bb1b2c;\n",
                            "  color: #f1f1f1;\n",
                            "}\n",
                            "#T_ef69a_row2_col4 {\n",
                            "  background-color: #cd423b;\n",
                            "  color: #f1f1f1;\n",
                            "}\n",
                            "#T_ef69a_row2_col5 {\n",
                            "  background-color: #485fd1;\n",
                            "  color: #f1f1f1;\n",
                            "}\n",
                            "#T_ef69a_row3_col0 {\n",
                            "  background-color: #82a6fb;\n",
                            "  color: #f1f1f1;\n",
                            "}\n",
                            "#T_ef69a_row3_col1 {\n",
                            "  background-color: #f7aa8c;\n",
                            "  color: #000000;\n",
                            "}\n",
                            "#T_ef69a_row3_col4, #T_ef69a_row4_col3 {\n",
                            "  background-color: #c32e31;\n",
                            "  color: #f1f1f1;\n",
                            "}\n",
                            "#T_ef69a_row3_col5 {\n",
                            "  background-color: #455cce;\n",
                            "  color: #f1f1f1;\n",
                            "}\n",
                            "#T_ef69a_row4_col0 {\n",
                            "  background-color: #4961d2;\n",
                            "  color: #f1f1f1;\n",
                            "}\n",
                            "#T_ef69a_row4_col1 {\n",
                            "  background-color: #e9d5cb;\n",
                            "  color: #000000;\n",
                            "}\n",
                            "#T_ef69a_row4_col2 {\n",
                            "  background-color: #cf453c;\n",
                            "  color: #f1f1f1;\n",
                            "}\n",
                            "#T_ef69a_row5_col0 {\n",
                            "  background-color: #445acc;\n",
                            "  color: #f1f1f1;\n",
                            "}\n",
                            "</style>\n",
                            "<table id=\"T_ef69a\">\n",
                            "  <thead>\n",
                            "    <tr>\n",
                            "      <th class=\"blank level0\" >&nbsp;</th>\n",
                            "      <th id=\"T_ef69a_level0_col0\" class=\"col_heading level0 col0\" >cons_conf_idx</th>\n",
                            "      <th id=\"T_ef69a_level0_col1\" class=\"col_heading level0 col1\" >cons_price_idx</th>\n",
                            "      <th id=\"T_ef69a_level0_col2\" class=\"col_heading level0 col2\" >emp_var_rate</th>\n",
                            "      <th id=\"T_ef69a_level0_col3\" class=\"col_heading level0 col3\" >euribor3m</th>\n",
                            "      <th id=\"T_ef69a_level0_col4\" class=\"col_heading level0 col4\" >nr_employed</th>\n",
                            "      <th id=\"T_ef69a_level0_col5\" class=\"col_heading level0 col5\" >y</th>\n",
                            "    </tr>\n",
                            "  </thead>\n",
                            "  <tbody>\n",
                            "    <tr>\n",
                            "      <th id=\"T_ef69a_level0_row0\" class=\"row_heading level0 row0\" >cons_conf_idx</th>\n",
                            "      <td id=\"T_ef69a_row0_col0\" class=\"data row0 col0\" >1.000</td>\n",
                            "      <td id=\"T_ef69a_row0_col1\" class=\"data row0 col1\" >0.028</td>\n",
                            "      <td id=\"T_ef69a_row0_col2\" class=\"data row0 col2\" >0.158</td>\n",
                            "      <td id=\"T_ef69a_row0_col3\" class=\"data row0 col3\" >0.244</td>\n",
                            "      <td id=\"T_ef69a_row0_col4\" class=\"data row0 col4\" >0.075</td>\n",
                            "      <td id=\"T_ef69a_row0_col5\" class=\"data row0 col5\" >0.062</td>\n",
                            "    </tr>\n",
                            "    <tr>\n",
                            "      <th id=\"T_ef69a_level0_row1\" class=\"row_heading level0 row1\" >cons_price_idx</th>\n",
                            "      <td id=\"T_ef69a_row1_col0\" class=\"data row1 col0\" >0.028</td>\n",
                            "      <td id=\"T_ef69a_row1_col1\" class=\"data row1 col1\" >1.000</td>\n",
                            "      <td id=\"T_ef69a_row1_col2\" class=\"data row1 col2\" >0.766</td>\n",
                            "      <td id=\"T_ef69a_row1_col3\" class=\"data row1 col3\" >0.667</td>\n",
                            "      <td id=\"T_ef69a_row1_col4\" class=\"data row1 col4\" >0.489</td>\n",
                            "      <td id=\"T_ef69a_row1_col5\" class=\"data row1 col5\" >-0.129</td>\n",
                            "    </tr>\n",
                            "    <tr>\n",
                            "      <th id=\"T_ef69a_level0_row2\" class=\"row_heading level0 row2\" >emp_var_rate</th>\n",
                            "      <td id=\"T_ef69a_row2_col0\" class=\"data row2 col0\" >0.158</td>\n",
                            "      <td id=\"T_ef69a_row2_col1\" class=\"data row2 col1\" >0.766</td>\n",
                            "      <td id=\"T_ef69a_row2_col2\" class=\"data row2 col2\" >1.000</td>\n",
                            "      <td id=\"T_ef69a_row2_col3\" class=\"data row2 col3\" >0.969</td>\n",
                            "      <td id=\"T_ef69a_row2_col4\" class=\"data row2 col4\" >0.900</td>\n",
                            "      <td id=\"T_ef69a_row2_col5\" class=\"data row2 col5\" >-0.305</td>\n",
                            "    </tr>\n",
                            "    <tr>\n",
                            "      <th id=\"T_ef69a_level0_row3\" class=\"row_heading level0 row3\" >euribor3m</th>\n",
                            "      <td id=\"T_ef69a_row3_col0\" class=\"data row3 col0\" >0.244</td>\n",
                            "      <td id=\"T_ef69a_row3_col1\" class=\"data row3 col1\" >0.667</td>\n",
                            "      <td id=\"T_ef69a_row3_col2\" class=\"data row3 col2\" >0.969</td>\n",
                            "      <td id=\"T_ef69a_row3_col3\" class=\"data row3 col3\" >1.000</td>\n",
                            "      <td id=\"T_ef69a_row3_col4\" class=\"data row3 col4\" >0.945</td>\n",
                            "      <td id=\"T_ef69a_row3_col5\" class=\"data row3 col5\" >-0.316</td>\n",
                            "    </tr>\n",
                            "    <tr>\n",
                            "      <th id=\"T_ef69a_level0_row4\" class=\"row_heading level0 row4\" >nr_employed</th>\n",
                            "      <td id=\"T_ef69a_row4_col0\" class=\"data row4 col0\" >0.075</td>\n",
                            "      <td id=\"T_ef69a_row4_col1\" class=\"data row4 col1\" >0.489</td>\n",
                            "      <td id=\"T_ef69a_row4_col2\" class=\"data row4 col2\" >0.900</td>\n",
                            "      <td id=\"T_ef69a_row4_col3\" class=\"data row4 col3\" >0.945</td>\n",
                            "      <td id=\"T_ef69a_row4_col4\" class=\"data row4 col4\" >1.000</td>\n",
                            "      <td id=\"T_ef69a_row4_col5\" class=\"data row4 col5\" >-0.364</td>\n",
                            "    </tr>\n",
                            "    <tr>\n",
                            "      <th id=\"T_ef69a_level0_row5\" class=\"row_heading level0 row5\" >y</th>\n",
                            "      <td id=\"T_ef69a_row5_col0\" class=\"data row5 col0\" >0.062</td>\n",
                            "      <td id=\"T_ef69a_row5_col1\" class=\"data row5 col1\" >-0.129</td>\n",
                            "      <td id=\"T_ef69a_row5_col2\" class=\"data row5 col2\" >-0.305</td>\n",
                            "      <td id=\"T_ef69a_row5_col3\" class=\"data row5 col3\" >-0.316</td>\n",
                            "      <td id=\"T_ef69a_row5_col4\" class=\"data row5 col4\" >-0.364</td>\n",
                            "      <td id=\"T_ef69a_row5_col5\" class=\"data row5 col5\" >1.000</td>\n",
                            "    </tr>\n",
                            "  </tbody>\n",
                            "</table>\n"
                        ],
                        "text/plain": [
                            "<pandas.io.formats.style.Styler at 0x7d945533d390>"
                        ]
                    },
                    "execution_count": 389,
                    "metadata": {},
                    "output_type": "execute_result"
                }
            ],
            "source": [
                "import seaborn as sns\n",
                "import matplotlib.pyplot as plt\n",
                "\n",
                "# Calcula la matriz de correlación\n",
                "corr= housing_0.corr()\n",
                "\n",
                "# Crea el mapa de correlación \n",
                "corr.style.background_gradient(cmap='coolwarm').format(precision=3)"
            ]
        },
        {
            "cell_type": "code",
            "execution_count": 390,
            "metadata": {
                "metadata": {}
            },
            "outputs": [
                {
                    "data": {
                        "text/plain": [
                            "cons_conf_idx       145.695111\n",
                            "cons_price_idx      658.542253\n",
                            "emp_var_rate       5442.277510\n",
                            "euribor3m         19666.095319\n",
                            "nr_employed        7599.684585\n",
                            "y                     2.200536\n",
                            "dtype: float64"
                        ]
                    },
                    "execution_count": 390,
                    "metadata": {},
                    "output_type": "execute_result"
                }
            ],
            "source": [
                "from statsmodels.stats.outliers_influence import variance_inflation_factor\n",
                "\n",
                "vif = pd.Series([variance_inflation_factor(corr.values, i) for i in range(corr.shape[1])], index=housing_0.columns)\n",
                "vif #multicolinealidad alta"
            ]
        },
        {
            "cell_type": "markdown",
            "metadata": {},
            "source": [
                "la vairable euribor3m es importante por cuanto ayudara al modelo a predecir el monto minimo de deposito //\n",
                "la variable de la tasa de variacion de empleados por trabajo es importante debido a que es un indicador de si la economia esta creciendo o decreciendo para el prospecto, lo cual influye en su decision de aceptar hacer el deposito o no //"
            ]
        },
        {
            "cell_type": "code",
            "execution_count": 391,
            "metadata": {
                "metadata": {}
            },
            "outputs": [
                {
                    "name": "stdout",
                    "output_type": "stream",
                    "text": [
                        "Accuracy: 87.35651033125616\n"
                    ]
                }
            ],
            "source": [
                "from sklearn.linear_model import LogisticRegression\n",
                "from sklearn.model_selection import train_test_split\n",
                "from sklearn.preprocessing import StandardScaler\n",
                "from sklearn.model_selection import cross_val_score\n",
                "\n",
                "X = housing_0.drop(['y'], axis=1)  # Características (todas las columnas excepto la columna 'y')\n",
                "y = housing_0['y']                  # Etiquetas (columna 'y')\n",
                "\n",
                "# Dividir los datos en conjuntos de entrenamiento y prueba\n",
                "X_train, X_test, y_train, y_test = train_test_split(X, y, test_size=0.2, random_state=42)\n",
                "\n",
                "# Escalar los datos\n",
                "scaler = StandardScaler()\n",
                "X_train_scaled = scaler.fit_transform(X_train)\n",
                "X_test_scaled = scaler.transform(X_test)\n",
                "\n",
                "# Entrenar el modelo de regresión logística\n",
                "logistic_model = LogisticRegression()\n",
                "logistic_model.fit(X_train_scaled, y_train)\n",
                "\n",
                "# Evaluar el modelo\n",
                "accuracy = logistic_model.score(X_test_scaled, y_test)\n",
                "print(\"Accuracy:\", accuracy*100)\n",
                "#87% de predicciones correctas"
            ]
        },
        {
            "cell_type": "code",
            "execution_count": 392,
            "metadata": {},
            "outputs": [
                {
                    "name": "stdout",
                    "output_type": "stream",
                    "text": [
                        "Tamaño de X_train: (24388, 5)\n",
                        "Tamaño de y_train: (24388,)\n",
                        "Tamaño de X_test: (6098, 5)\n",
                        "Tamaño de y_test: (6098,)\n"
                    ]
                }
            ],
            "source": [
                "print(\"Tamaño de X_train:\", X_train.shape)\n",
                "print(\"Tamaño de y_train:\", y_train.shape)\n",
                "print(\"Tamaño de X_test:\", X_test.shape)\n",
                "print(\"Tamaño de y_test:\", y_test.shape)"
            ]
        },
        {
            "cell_type": "code",
            "execution_count": 393,
            "metadata": {
                "metadata": {}
            },
            "outputs": [
                {
                    "name": "stdout",
                    "output_type": "stream",
                    "text": [
                        "Matriz de Confusión:\n",
                        "[[5261   61]\n",
                        " [ 710   66]]\n"
                    ]
                }
            ],
            "source": [
                "from sklearn.metrics import confusion_matrix\n",
                "\n",
                "# Predecir con el modelo\n",
                "y_pred = logistic_model.predict(X_test_scaled)\n",
                "\n",
                "# Calcular la matriz de confusión\n",
                "conf_matrix = confusion_matrix(y_test, y_pred)\n",
                "\n",
                "print(\"Matriz de Confusión:\")\n",
                "print(conf_matrix)"
            ]
        },
        {
            "cell_type": "markdown",
            "metadata": {},
            "source": [
                "True negatives: 5249 //\n",
                "False positives: 73 //\n",
                "False negatives: 690 //\n",
                "True positives: 86 //"
            ]
        },
        {
            "cell_type": "code",
            "execution_count": 394,
            "metadata": {
                "metadata": {}
            },
            "outputs": [
                {
                    "name": "stdout",
                    "output_type": "stream",
                    "text": [
                        "Precisión: 51.96850393700787\n",
                        "Recall: 8.505154639175258\n",
                        "F1-score: 14.61794019933555\n"
                    ]
                }
            ],
            "source": [
                "from sklearn.metrics import precision_score, recall_score, f1_score\n",
                "\n",
                "# Calcular la precisión\n",
                "precision = precision_score(y_test, y_pred)\n",
                "\n",
                "# Calcular el recall\n",
                "recall = recall_score(y_test, y_pred)\n",
                "\n",
                "# Calcular el F1-score\n",
                "f1 = f1_score(y_test, y_pred)\n",
                "\n",
                "print(\"Precisión:\", precision*100) #las muestras que fueron correctas entre todas las predicciones positivas\n",
                "print(\"Recall:\", recall*100) #sensibilidad del modelo y las muestras que fueron clasificadas correctamente entre todas las muestras positivas reales\n",
                "print(\"F1-score:\", f1*100) #media entre las dos anteriores"
            ]
        },
        {
            "cell_type": "code",
            "execution_count": 395,
            "metadata": {
                "metadata": {}
            },
            "outputs": [
                {
                    "data": {
                        "text/html": [
                            "<div>\n",
                            "<style scoped>\n",
                            "    .dataframe tbody tr th:only-of-type {\n",
                            "        vertical-align: middle;\n",
                            "    }\n",
                            "\n",
                            "    .dataframe tbody tr th {\n",
                            "        vertical-align: top;\n",
                            "    }\n",
                            "\n",
                            "    .dataframe thead th {\n",
                            "        text-align: right;\n",
                            "    }\n",
                            "</style>\n",
                            "<table border=\"1\" class=\"dataframe\">\n",
                            "  <thead>\n",
                            "    <tr style=\"text-align: right;\">\n",
                            "      <th></th>\n",
                            "      <th>cons_conf_idx</th>\n",
                            "      <th>cons_price_idx</th>\n",
                            "      <th>emp_var_rate</th>\n",
                            "      <th>euribor3m</th>\n",
                            "      <th>nr_employed</th>\n",
                            "      <th>prob_class_0</th>\n",
                            "      <th>prob_class_1</th>\n",
                            "    </tr>\n",
                            "  </thead>\n",
                            "  <tbody>\n",
                            "    <tr>\n",
                            "      <th>8688</th>\n",
                            "      <td>-42.0</td>\n",
                            "      <td>94.0</td>\n",
                            "      <td>1.0</td>\n",
                            "      <td>5.0</td>\n",
                            "      <td>5228.0</td>\n",
                            "      <td>95.0</td>\n",
                            "      <td>5.0</td>\n",
                            "    </tr>\n",
                            "    <tr>\n",
                            "      <th>18409</th>\n",
                            "      <td>-43.0</td>\n",
                            "      <td>94.0</td>\n",
                            "      <td>1.0</td>\n",
                            "      <td>5.0</td>\n",
                            "      <td>5228.0</td>\n",
                            "      <td>96.0</td>\n",
                            "      <td>4.0</td>\n",
                            "    </tr>\n",
                            "    <tr>\n",
                            "      <th>18374</th>\n",
                            "      <td>-43.0</td>\n",
                            "      <td>94.0</td>\n",
                            "      <td>1.0</td>\n",
                            "      <td>5.0</td>\n",
                            "      <td>5228.0</td>\n",
                            "      <td>96.0</td>\n",
                            "      <td>4.0</td>\n",
                            "    </tr>\n",
                            "    <tr>\n",
                            "      <th>39804</th>\n",
                            "      <td>-40.0</td>\n",
                            "      <td>94.0</td>\n",
                            "      <td>-2.0</td>\n",
                            "      <td>1.0</td>\n",
                            "      <td>4992.0</td>\n",
                            "      <td>52.0</td>\n",
                            "      <td>48.0</td>\n",
                            "    </tr>\n",
                            "    <tr>\n",
                            "      <th>10746</th>\n",
                            "      <td>-42.0</td>\n",
                            "      <td>94.0</td>\n",
                            "      <td>1.0</td>\n",
                            "      <td>5.0</td>\n",
                            "      <td>5228.0</td>\n",
                            "      <td>95.0</td>\n",
                            "      <td>5.0</td>\n",
                            "    </tr>\n",
                            "    <tr>\n",
                            "      <th>...</th>\n",
                            "      <td>...</td>\n",
                            "      <td>...</td>\n",
                            "      <td>...</td>\n",
                            "      <td>...</td>\n",
                            "      <td>...</td>\n",
                            "      <td>...</td>\n",
                            "      <td>...</td>\n",
                            "    </tr>\n",
                            "    <tr>\n",
                            "      <th>2273</th>\n",
                            "      <td>-36.0</td>\n",
                            "      <td>94.0</td>\n",
                            "      <td>1.0</td>\n",
                            "      <td>5.0</td>\n",
                            "      <td>5191.0</td>\n",
                            "      <td>93.0</td>\n",
                            "      <td>7.0</td>\n",
                            "    </tr>\n",
                            "    <tr>\n",
                            "      <th>22951</th>\n",
                            "      <td>-36.0</td>\n",
                            "      <td>93.0</td>\n",
                            "      <td>1.0</td>\n",
                            "      <td>5.0</td>\n",
                            "      <td>5228.0</td>\n",
                            "      <td>97.0</td>\n",
                            "      <td>3.0</td>\n",
                            "    </tr>\n",
                            "    <tr>\n",
                            "      <th>27332</th>\n",
                            "      <td>-42.0</td>\n",
                            "      <td>93.0</td>\n",
                            "      <td>-0.0</td>\n",
                            "      <td>4.0</td>\n",
                            "      <td>5196.0</td>\n",
                            "      <td>94.0</td>\n",
                            "      <td>6.0</td>\n",
                            "    </tr>\n",
                            "    <tr>\n",
                            "      <th>20781</th>\n",
                            "      <td>-36.0</td>\n",
                            "      <td>93.0</td>\n",
                            "      <td>1.0</td>\n",
                            "      <td>5.0</td>\n",
                            "      <td>5228.0</td>\n",
                            "      <td>97.0</td>\n",
                            "      <td>3.0</td>\n",
                            "    </tr>\n",
                            "    <tr>\n",
                            "      <th>11662</th>\n",
                            "      <td>-42.0</td>\n",
                            "      <td>94.0</td>\n",
                            "      <td>1.0</td>\n",
                            "      <td>5.0</td>\n",
                            "      <td>5228.0</td>\n",
                            "      <td>95.0</td>\n",
                            "      <td>5.0</td>\n",
                            "    </tr>\n",
                            "  </tbody>\n",
                            "</table>\n",
                            "<p>6098 rows × 7 columns</p>\n",
                            "</div>"
                        ],
                        "text/plain": [
                            "       cons_conf_idx  cons_price_idx  emp_var_rate  euribor3m  nr_employed  \\\n",
                            "8688           -42.0            94.0           1.0        5.0       5228.0   \n",
                            "18409          -43.0            94.0           1.0        5.0       5228.0   \n",
                            "18374          -43.0            94.0           1.0        5.0       5228.0   \n",
                            "39804          -40.0            94.0          -2.0        1.0       4992.0   \n",
                            "10746          -42.0            94.0           1.0        5.0       5228.0   \n",
                            "...              ...             ...           ...        ...          ...   \n",
                            "2273           -36.0            94.0           1.0        5.0       5191.0   \n",
                            "22951          -36.0            93.0           1.0        5.0       5228.0   \n",
                            "27332          -42.0            93.0          -0.0        4.0       5196.0   \n",
                            "20781          -36.0            93.0           1.0        5.0       5228.0   \n",
                            "11662          -42.0            94.0           1.0        5.0       5228.0   \n",
                            "\n",
                            "       prob_class_0  prob_class_1  \n",
                            "8688           95.0           5.0  \n",
                            "18409          96.0           4.0  \n",
                            "18374          96.0           4.0  \n",
                            "39804          52.0          48.0  \n",
                            "10746          95.0           5.0  \n",
                            "...             ...           ...  \n",
                            "2273           93.0           7.0  \n",
                            "22951          97.0           3.0  \n",
                            "27332          94.0           6.0  \n",
                            "20781          97.0           3.0  \n",
                            "11662          95.0           5.0  \n",
                            "\n",
                            "[6098 rows x 7 columns]"
                        ]
                    },
                    "execution_count": 395,
                    "metadata": {},
                    "output_type": "execute_result"
                }
            ],
            "source": [
                "probs = logistic_model.predict_proba(X_test_scaled)\n",
                "\n",
                "# Crear un nuevo DataFrame con las probabilidades convertidas a porcentaje y redondeadas\n",
                "probs_df = pd.DataFrame(probs * 100, columns=['prob_class_0', 'prob_class_1'], index=X_test.index).round(2)\n",
                "\n",
                "# Concatenar el DataFrame de probabilidades con el DataFrame original\n",
                "X_test_with_probs = pd.concat([X_test, probs_df], axis=1).round()\n",
                "X_test_with_probs\n",
                "#queria saber cual era la probabilidad de cada prospecto de aceptar o no hacer el deposito. 0 para no 1 para si"
            ]
        },
        {
            "cell_type": "code",
            "execution_count": 396,
            "metadata": {},
            "outputs": [
                {
                    "data": {
                        "text/plain": [
                            "prob_class_1\n",
                            "3.0     772\n",
                            "4.0     974\n",
                            "5.0     556\n",
                            "6.0     576\n",
                            "7.0     959\n",
                            "9.0       7\n",
                            "10.0      7\n",
                            "14.0     57\n",
                            "15.0    788\n",
                            "16.0    169\n",
                            "17.0    383\n",
                            "27.0    134\n",
                            "29.0     40\n",
                            "32.0    105\n",
                            "39.0     45\n",
                            "43.0     76\n",
                            "45.0     15\n",
                            "46.0     26\n",
                            "47.0     19\n",
                            "48.0     82\n",
                            "49.0    112\n",
                            "50.0    134\n",
                            "51.0     62\n",
                            "Name: count, dtype: int64"
                        ]
                    },
                    "execution_count": 396,
                    "metadata": {},
                    "output_type": "execute_result"
                }
            ],
            "source": [
                "dfx = X_test_with_probs[['prob_class_1']].groupby('prob_class_1').value_counts()\n",
                "dfx"
            ]
        },
        {
            "cell_type": "markdown",
            "metadata": {},
            "source": [
                "26.0 mediana\n",
                "prob_class_1\n",
                "0.0       1\n",
                "2.0      32\n",
                "3.0     805\n",
                "4.0     900\n",
                "5.0     725\n",
                "       ... \n",
                "62.0      4\n",
                "63.0      4\n",
                "64.0      3\n",
                "66.0      2\n",
                "67.0      2"
            ]
        },
        {
            "cell_type": "markdown",
            "metadata": {},
            "source": [
                "prob_class_1\n",
                "0.0       1\n",
                "2.0      28\n",
                "3.0     835\n",
                "4.0     878\n",
                "5.0     718\n",
                "       ... \n",
                "63.0      3\n",
                "64.0      2\n",
                "65.0      1\n",
                "66.0      2\n",
                "67.0      1\n",
                "25.0 mediana"
            ]
        },
        {
            "cell_type": "markdown",
            "metadata": {},
            "source": [
                "datos iniciales:\n",
                "Precisión: 51.28205128205128\n",
                "Recall: 8.403361344537815\n",
                "F1-score: 14.440433212996389"
            ]
        }
    ],
    "metadata": {
        "kernelspec": {
            "display_name": "Python 3.8.13 64-bit ('3.8.13')",
            "language": "python",
            "name": "python3"
        },
        "language_info": {
            "codemirror_mode": {
                "name": "ipython",
                "version": 3
            },
            "file_extension": ".py",
            "mimetype": "text/x-python",
            "name": "python",
            "nbconvert_exporter": "python",
            "pygments_lexer": "ipython3",
            "version": "3.10.12"
        },
        "orig_nbformat": 4,
        "vscode": {
            "interpreter": {
                "hash": "110cc1dee26208153f2972f08a2ad52b6a56238dc66d48e87fb757ef2996db56"
            }
        }
    },
    "nbformat": 4,
    "nbformat_minor": 2
}
